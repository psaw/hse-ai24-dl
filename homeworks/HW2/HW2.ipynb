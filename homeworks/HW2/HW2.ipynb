{
 "cells": [
  {
   "cell_type": "markdown",
   "metadata": {
    "id": "w35Q6hOIy4sk",
    "pycharm": {
     "name": "#%% md\n"
    }
   },
   "source": [
    "# Глубинное обучение, ИИ ВШЭ\n",
    "\n",
    "## Домашнее задание 2. Классификация при помощи CNN. \n",
    "\n",
    "### Общая информация\n",
    "\n",
    "### Оценивание и штрафы\n",
    "\n",
    "Максимально допустимая оценка за работу без бонусов — 10 баллов. Сдавать задание после указанного срока жесткого дедлайна нельзя.\n",
    "\n",
    "Сдача работы после мягкого дедлайна штрафуется ступенчато, -1 балл в сутки. Один раз за модуль студентам предоставляется возможность использовать отсрочку и сдать в жесткий дедлайн без штрафа.\n",
    "\n",
    "Задание выполняется самостоятельно. «Похожие» решения считаются плагиатом и все задействованные студенты (в том числе те, у кого списали) не могут получить за него больше 0 баллов. Если вы нашли решение какого-то из заданий (или его часть) в открытом источнике, необходимо указать ссылку на этот источник в отдельном блоке в конце вашей работы (скорее всего вы будете не единственным, кто это нашел, поэтому чтобы исключить подозрение в плагиате, необходима ссылка на источник).\n",
    "\n",
    "Неэффективная реализация кода может негативно отразиться на оценке. Также оценка может быть снижена за плохо читаемый код и плохо оформленные графики. Все ответы должны сопровождаться кодом или комментариями о том, как они были получены.\n",
    "\n",
    "Использование генеративных моделей допустимо на следующих условиях:\n",
    "- Количество кода, написанное генеративными моделями, не превышает 30%\n",
    "- Указана модель, использованная для генерации, а также промпт\n",
    "- В конце работы необходимо описать свой опыт использования генеративного ИИ для решения данного домашнего задания. Укажите как часто Вам приходилось исправлять код своими руками или просить модель что-то исправить. Было ли это быстрее, чем написать код самим? \n",
    "\n",
    "В случае невыполнения этих требований работа не оценивается и оценка за неё не превышает 0 баллов.\n",
    "\n",
    "### О задании\n",
    "\n",
    "В этом задании вам предстоит познакомиться со сверточными сетями и их обучением для классификации изображений с использованием библиотеки PyTorch.\n"
   ]
  },
  {
   "cell_type": "code",
   "execution_count": 2,
   "metadata": {
    "id": "SaACifdX2QOo",
    "pycharm": {
     "name": "#%%\n"
    }
   },
   "outputs": [],
   "source": [
    "import matplotlib.pyplot as plt\n",
    "import numpy as np\n",
    "import torch\n",
    "import torch.nn as nn\n",
    "import torch.nn.functional as F\n",
    "import torch.optim as optim\n",
    "import torchvision\n",
    "import torchvision.transforms as transforms\n",
    "from sklearn.model_selection import train_test_split"
   ]
  },
  {
   "cell_type": "markdown",
   "metadata": {
    "id": "TIXaUYM-0JFl",
    "pycharm": {
     "name": "#%% md\n"
    }
   },
   "source": [
    "## 0. Загрузка данных\n",
    "\n",
    "Работать мы будем с набором данных [CIFAR10](https://www.cs.toronto.edu/~kriz/cifar.html). CIFAR10 представляет собой набор изображений 32х32 пикселя, разделенных на 10 классов.\n",
    "\n",
    "![title](https://pytorch.org/tutorials/_images/cifar10.png)\n",
    "\n",
    "\n"
   ]
  },
  {
   "cell_type": "markdown",
   "metadata": {
    "id": "g-0EEjl_10vB",
    "pycharm": {
     "name": "#%% md\n"
    }
   },
   "source": [
    "Набор данных уже определен в <code>torchvision.datasets</code>, так что возьмем его оттуда. \n",
    "\n"
   ]
  },
  {
   "cell_type": "code",
   "execution_count": 3,
   "metadata": {
    "id": "Cbwe92dT3aPZ",
    "pycharm": {
     "name": "#%%\n"
    }
   },
   "outputs": [],
   "source": [
    "# Для тру нормализации\n",
    "# mean = [0.4914, 0.4822, 0.4465]\n",
    "# std = [0.2470, 0.2435, 0.2616]\n",
    "# Тут взяты значения как в одном из туториалов пайторча :)\n",
    "\n",
    "\n",
    "def get_cifar10_data(batch_size, transform_train):\n",
    "    torch.manual_seed(0)\n",
    "    np.random.seed(0)\n",
    "\n",
    "    transform_test = transforms.Compose(\n",
    "        [\n",
    "            transforms.ToTensor(),\n",
    "            # Переводим цвета пикселей в отрезок [-1, 1]\n",
    "            transforms.Normalize((0.5, 0.5, 0.5), (0.5, 0.5, 0.5)),\n",
    "        ]\n",
    "    )\n",
    "\n",
    "    # Загружаем данные\n",
    "    trainvalset = torchvision.datasets.CIFAR10(\n",
    "        root=\"./data\", train=True, download=True, transform=transform_train\n",
    "    )\n",
    "    testset = torchvision.datasets.CIFAR10(\n",
    "        root=\"./data\", train=False, download=True, transform=transform_test\n",
    "    )\n",
    "\n",
    "    # В датасете определено разбиение только на train и test,\n",
    "    # так что валидацию дополнительно выделяем из обучающей выборки\n",
    "    train_idx, valid_idx = train_test_split(\n",
    "        np.arange(len(trainvalset)), test_size=0.3, shuffle=True, random_state=0\n",
    "    )\n",
    "    trainset = torch.utils.data.Subset(trainvalset, train_idx)\n",
    "    valset = torch.utils.data.Subset(trainvalset, valid_idx)\n",
    "\n",
    "    train_loader = torch.utils.data.DataLoader(\n",
    "        trainset, batch_size=batch_size, shuffle=True, num_workers=2\n",
    "    )\n",
    "    val_loader = torch.utils.data.DataLoader(\n",
    "        valset, batch_size=batch_size, shuffle=False, num_workers=2\n",
    "    )\n",
    "    test_loader = torch.utils.data.DataLoader(\n",
    "        testset, batch_size=batch_size, shuffle=False, num_workers=2\n",
    "    )\n",
    "\n",
    "    return train_loader, val_loader, test_loader"
   ]
  },
  {
   "cell_type": "code",
   "execution_count": 4,
   "metadata": {
    "colab": {
     "base_uri": "https://localhost:8080/",
     "height": 101,
     "referenced_widgets": [
      "aa9da821ba0c42b5b051355e50e691f0",
      "95c5696493db48738dbdc9940acec1d8",
      "fe515a1f743f49d0b251b43919d52a8e",
      "f4f339c969fd4e21bc683ecb2567897b",
      "17b2be81159e41f1a5c6bb966516572e",
      "22bb21a6c57a413fb7374efe31349e6e",
      "18b20091dbf64b129824a8fb3266e3c0",
      "9bad0d6a00c14229b0d776a2cfe15090",
      "0fee9f5b7bdb4129a71ef0cfe9d3b1fa",
      "cd991379661b4b4ab405bf66f75c6834",
      "7d238166caf64537ad9aa2040dcdc1ec"
     ]
    },
    "id": "2G2rLnN5y6Jj",
    "outputId": "542c91e6-44f6-4e26-f1e8-5df3b83fd044",
    "pycharm": {
     "name": "#%%\n"
    }
   },
   "outputs": [
    {
     "name": "stderr",
     "output_type": "stream",
     "text": [
      "100.0%\n"
     ]
    }
   ],
   "source": [
    "transform = transforms.Compose(\n",
    "    [transforms.ToTensor(), transforms.Normalize((0.5, 0.5, 0.5), (0.5, 0.5, 0.5))]\n",
    ")\n",
    "\n",
    "train_loader, val_loader, test_loader = get_cifar10_data(\n",
    "    batch_size=64, transform_train=transform\n",
    ")"
   ]
  },
  {
   "cell_type": "markdown",
   "metadata": {
    "id": "-82HWgXs77W1",
    "pycharm": {
     "name": "#%% md\n"
    }
   },
   "source": [
    "Посмотрим на изображения:"
   ]
  },
  {
   "cell_type": "code",
   "execution_count": 8,
   "metadata": {
    "colab": {
     "base_uri": "https://localhost:8080/",
     "height": 155
    },
    "id": "ACnwaC5iy6L2",
    "outputId": "fd2fc631-ea7b-45f2-9728-eb1c5f9e683c",
    "pycharm": {
     "name": "#%%\n"
    }
   },
   "outputs": [
    {
     "data": {
      "image/png": "[encoded data removed]",
      "text/plain": [
       "<Figure size 640x480 with 1 Axes>"
      ]
     },
     "metadata": {},
     "output_type": "display_data"
    },
    {
     "name": "stdout",
     "output_type": "stream",
     "text": [
      "cat dog ship ship car plane plane car\n"
     ]
    }
   ],
   "source": [
    "def imshow(img):\n",
    "    img = img / 2 + 0.5\n",
    "    npimg = img.numpy()\n",
    "    plt.imshow(np.transpose(npimg, (1, 2, 0)))\n",
    "    plt.show()\n",
    "\n",
    "\n",
    "dataiter = iter(train_loader)\n",
    "images, labels = next(dataiter)\n",
    "\n",
    "imshow(torchvision.utils.make_grid(images[:4]))\n",
    "\n",
    "classes = (\n",
    "    \"plane\",\n",
    "    \"car\",\n",
    "    \"bird\",\n",
    "    \"cat\",\n",
    "    \"deer\",\n",
    "    \"dog\",\n",
    "    \"frog\",\n",
    "    \"horse\",\n",
    "    \"ship\",\n",
    "    \"truck\",\n",
    ")\n",
    "print(*[classes[labels[i]] for i in range(8)])"
   ]
  },
  {
   "cell_type": "markdown",
   "metadata": {
    "id": "KFDilng29YZ_",
    "pycharm": {
     "name": "#%% md\n"
    }
   },
   "source": [
    "## 1. Задание сверточной сети (3 балла)"
   ]
  },
  {
   "cell_type": "markdown",
   "metadata": {
    "id": "OX7Ul8YbYdQR",
    "pycharm": {
     "name": "#%% md\n"
    }
   },
   "source": [
    "Теперь нам нужно задать сверточную нейронную сеть, которую мы будем обучать классифицировать изображения.\n",
    "\n",
    "Используем сеть, основанную на одном блоке архитектуры, похожей на ResNet. Обратите внимание, это не ResNet 1 в 1.\n",
    "\n",
    "<img src=\"https://i.ibb.co/2hg962h/basic-block.png\" width=\"500\"/>\n",
    "\n",
    "__Указания:__\n",
    "\n",
    "- Все сверточные слои должны иметь 32 выходных канала, а также не должны изменять ширину и высоту изображения.\n",
    "- Выход блока сократите до размерности 32х4х4, применив average pooling.\n",
    "- Для получения итоговых логитов, распрямите выход пулинга в вектор из 512 элементов, а затем пропустите его через линейный слой."
   ]
  },
  {
   "cell_type": "markdown",
   "metadata": {
    "id": "sbyIylT9O9Dr",
    "pycharm": {
     "name": "#%% md\n"
    }
   },
   "source": [
    "**Задание 1.1 (3 балла).**\n",
    "\n",
    "Определите архитектуру сети соответственно схеме и указаниям выше.\n",
    "\n",
    "Ключевые слова: <code>Conv2d</code>, <code>BatchNorm2d</code>, <code>AvgPool2d</code>."
   ]
  },
  {
   "cell_type": "code",
   "execution_count": 48,
   "metadata": {
    "id": "s9ml1QGKy6N9",
    "pycharm": {
     "name": "#%%\n"
    }
   },
   "outputs": [],
   "source": [
    "n_classes = 10\n",
    "\n",
    "\n",
    "class BasicBlockNet(nn.Module):\n",
    "    def __init__(self):\n",
    "        super().__init__()\n",
    "\n",
    "        # Первый сверточный слой\n",
    "        self.conv1 = nn.Conv2d(in_channels=3, out_channels=32, kernel_size=3, padding=1)\n",
    "        self.bn1 = nn.BatchNorm2d(32)\n",
    "\n",
    "        # Второй сверточный слой\n",
    "        self.conv2 = nn.Conv2d(\n",
    "            in_channels=32, out_channels=32, kernel_size=3, padding=1\n",
    "        )\n",
    "        self.bn2 = nn.BatchNorm2d(32)\n",
    "\n",
    "        # Третий сверточный слой (обходной путь)\n",
    "        self.conv3 = nn.Conv2d(in_channels=3, out_channels=32, kernel_size=3, padding=1)\n",
    "\n",
    "        # Average pooling для уменьшения размерности до 4x4\n",
    "        self.avgpool = nn.AvgPool2d(kernel_size=8)\n",
    "\n",
    "        # Полносвязный слой для классификации\n",
    "        self.fc = nn.Linear(512, n_classes)\n",
    "\n",
    "    def forward(self, x):\n",
    "        # == Основной путь ==\n",
    "        identity = x\n",
    "\n",
    "        # Первый блок\n",
    "        out = self.conv1(x)\n",
    "        out = self.bn1(out)\n",
    "        out = F.relu(out)\n",
    "\n",
    "        # Второй блок\n",
    "        out = self.conv2(out)\n",
    "        out = self.bn2(out)\n",
    "\n",
    "        # == Обходной путь ==\n",
    "        identity = self.conv3(identity)\n",
    "\n",
    "        # Сложение основного и обходного путей\n",
    "        out += identity\n",
    "        out = F.relu(out)\n",
    "\n",
    "        # Уменьшение размерности и классификация\n",
    "        out = self.avgpool(out)\n",
    "        out = torch.flatten(out, 1)  # Преобразование в вектор размерности 512\n",
    "        out = self.fc(out)\n",
    "\n",
    "        return out"
   ]
  },
  {
   "cell_type": "code",
   "execution_count": 49,
   "metadata": {
    "id": "FI4BQg7Ky6Pw",
    "pycharm": {
     "name": "#%%\n"
    }
   },
   "outputs": [
    {
     "data": {
      "text/plain": [
       "BasicBlockNet(\n",
       "  (conv1): Conv2d(3, 32, kernel_size=(3, 3), stride=(1, 1), padding=(1, 1))\n",
       "  (bn1): BatchNorm2d(32, eps=1e-05, momentum=0.1, affine=True, track_running_stats=True)\n",
       "  (conv2): Conv2d(32, 32, kernel_size=(3, 3), stride=(1, 1), padding=(1, 1))\n",
       "  (bn2): BatchNorm2d(32, eps=1e-05, momentum=0.1, affine=True, track_running_stats=True)\n",
       "  (conv3): Conv2d(3, 32, kernel_size=(3, 3), stride=(1, 1), padding=(1, 1))\n",
       "  (avgpool): AvgPool2d(kernel_size=8, stride=8, padding=0)\n",
       "  (fc): Linear(in_features=512, out_features=10, bias=True)\n",
       ")"
      ]
     },
     "execution_count": 49,
     "metadata": {},
     "output_type": "execute_result"
    }
   ],
   "source": [
    "net = BasicBlockNet()\n",
    "net"
   ]
  },
  {
   "cell_type": "markdown",
   "metadata": {
    "id": "igPoGZEub8d3",
    "pycharm": {
     "name": "#%% md\n"
    }
   },
   "source": [
    "Проверим, что выход сети имеет корректную размерность:"
   ]
  },
  {
   "cell_type": "code",
   "execution_count": 50,
   "metadata": {
    "id": "cCIzFUpJ_Agw",
    "pycharm": {
     "name": "#%%\n"
    }
   },
   "outputs": [],
   "source": [
    "assert net(torch.zeros((10, 3, 32, 32))).shape == (10, 10)"
   ]
  },
  {
   "cell_type": "markdown",
   "metadata": {
    "id": "08osX622cDGz",
    "pycharm": {
     "name": "#%% md\n"
    }
   },
   "source": [
    "Чтобы проводить вычисления на GPU, в PyTorch необходимо руками перекладывать объекты, с которыми вы хотите проводить вычисления, на графический ускоритель. Это делается следующим образрм:"
   ]
  },
  {
   "cell_type": "markdown",
   "metadata": {},
   "source": [
    "> Note: Делаю на Mac, поэтому \"mps\""
   ]
  },
  {
   "cell_type": "code",
   "execution_count": 23,
   "metadata": {
    "id": "56hDOMCFcDZX",
    "pycharm": {
     "name": "#%%\n"
    }
   },
   "outputs": [
    {
     "name": "stdout",
     "output_type": "stream",
     "text": [
      "mps\n"
     ]
    }
   ],
   "source": [
    "# device = torch.device(\"cuda:0\" if torch.cuda.is_available() else \"mps\")\n",
    "device = torch.device(\"mps\" if torch.backends.mps.is_available() else \"cpu\")\n",
    "print(device)"
   ]
  },
  {
   "cell_type": "code",
   "execution_count": 25,
   "metadata": {
    "id": "ohnDWbp0qbtC",
    "pycharm": {
     "name": "#%%\n"
    }
   },
   "outputs": [],
   "source": [
    "net = net.to(device)"
   ]
  },
  {
   "cell_type": "markdown",
   "metadata": {
    "id": "H_bOlTVUp5QF",
    "pycharm": {
     "name": "#%% md\n"
    }
   },
   "source": [
    "Подключение GPU в google.colab:\n",
    "\n",
    "**Среда выполнения** -> **Сменить среду выполнения** -> **Аппаратный ускоритель** -> **GPU**"
   ]
  },
  {
   "cell_type": "markdown",
   "metadata": {
    "id": "AGi6XX_7_Bgg",
    "pycharm": {
     "name": "#%% md\n"
    }
   },
   "source": [
    "## 2. Обучение и тестирование модели (3 балла)"
   ]
  },
  {
   "cell_type": "markdown",
   "metadata": {
    "id": "0agj_MQoO9Ds",
    "pycharm": {
     "name": "#%% md\n"
    }
   },
   "source": [
    "**Задание 2.1 (2 балла).** Переходим к обучению модели. Заполните пропуски в функциях <code>test</code> и <code>train_epoch</code>. В качестве функции потерь будем использовать [кросс-энтропию](https://pytorch.org/docs/stable/generated/torch.nn.functional.cross_entropy.html), а в качестве метрики качества accuracy."
   ]
  },
  {
   "cell_type": "code",
   "execution_count": 51,
   "metadata": {
    "id": "g8gsPPRIevDS",
    "pycharm": {
     "name": "#%%\n"
    }
   },
   "outputs": [],
   "source": [
    "def test(model, loader):\n",
    "    loss_log = []\n",
    "    acc_log = []\n",
    "    model.eval()\n",
    "\n",
    "    with torch.no_grad():  # Отключаем подсчет градиентов для экономии памяти\n",
    "        for data, target in loader:\n",
    "            # Переносим данные на нужное устройство\n",
    "            data, target = data.to(device), target.to(device)\n",
    "\n",
    "            # Получаем предсказания модели\n",
    "            output = model(data)\n",
    "\n",
    "            # Считаем функцию потерь\n",
    "            loss = F.cross_entropy(output, target)\n",
    "            loss_log.append(loss.item())\n",
    "\n",
    "            # Считаем accuracy\n",
    "            pred = output.argmax(dim=1)\n",
    "            acc = pred.eq(target).float().mean()\n",
    "            acc_log.append(acc.item())\n",
    "\n",
    "    return np.mean(loss_log), np.mean(acc_log)\n",
    "\n",
    "\n",
    "def train_epoch(model, optimizer, train_loader):\n",
    "    loss_log = []\n",
    "    acc_log = []\n",
    "    model.train()\n",
    "\n",
    "    for data, target in train_loader:\n",
    "        # Переносим данные на нужное устройство\n",
    "        data, target = data.to(device), target.to(device)\n",
    "\n",
    "        # Обнуляем градиенты\n",
    "        optimizer.zero_grad()\n",
    "\n",
    "        # Получаем предсказания модели\n",
    "        output = model(data)\n",
    "\n",
    "        # Считаем функцию потерь\n",
    "        loss = F.cross_entropy(output, target)\n",
    "\n",
    "        # Делаем шаг градиентного спуска\n",
    "        loss.backward()\n",
    "        optimizer.step()\n",
    "\n",
    "        loss_log.append(loss.item())\n",
    "\n",
    "        # Считаем accuracy\n",
    "        with torch.no_grad():\n",
    "            pred = output.argmax(dim=1)\n",
    "            acc = pred.eq(target).float().mean()\n",
    "            acc_log.append(acc.item())\n",
    "\n",
    "    return loss_log, acc_log\n",
    "\n",
    "\n",
    "def train(model, optimizer, n_epochs, train_loader, val_loader, scheduler=None):\n",
    "    train_loss_log, train_acc_log, val_loss_log, val_acc_log = [], [], [], []\n",
    "\n",
    "    for epoch in range(n_epochs):\n",
    "        train_loss, train_acc = train_epoch(model, optimizer, train_loader)\n",
    "        val_loss, val_acc = test(model, val_loader)\n",
    "\n",
    "        train_loss_log.extend(train_loss)\n",
    "        train_acc_log.extend(train_acc)\n",
    "\n",
    "        val_loss_log.append(val_loss)\n",
    "        val_acc_log.append(val_acc)\n",
    "\n",
    "        print(f\"Epoch {epoch}\")\n",
    "        print(f\" train loss: {np.mean(train_loss)}, train acc: {np.mean(train_acc)}\")\n",
    "        print(f\" val loss: {val_loss}, val acc: {val_acc}\\n\")\n",
    "\n",
    "        if scheduler is not None:\n",
    "            # Проверяем тип - нужно для задяния с перебором типов шедулеров\n",
    "            if isinstance(scheduler, optim.lr_scheduler.ReduceLROnPlateau):\n",
    "                scheduler.step(val_loss)  # Передаем значение метрики\n",
    "            else:\n",
    "                scheduler.step()\n",
    "\n",
    "    return train_loss_log, train_acc_log, val_loss_log, val_acc_log"
   ]
  },
  {
   "cell_type": "markdown",
   "metadata": {
    "id": "iSOqk_CAO9Dt",
    "pycharm": {
     "name": "#%% md\n"
    }
   },
   "source": [
    "Запустим обучение модели. В качестве оптимизатора будем использовать стохастический градиентный спуск, который является де-факто стандартом в задачах компьютерного зрения (наравне с <code>Adam</code>).\n",
    "\n",
    "__Замечание:__ Для достижения наилучшего качества в нашем случае потребуется обучать модель несколько сотен эпох. Однако в целях экономии вашего времени и сил, во всех экспериментах мы ограничимся 20 эпохами."
   ]
  },
  {
   "cell_type": "code",
   "execution_count": 27,
   "metadata": {
    "id": "MKZBGhuAgMDu",
    "pycharm": {
     "name": "#%%\n"
    },
    "scrolled": true
   },
   "outputs": [
    {
     "name": "stdout",
     "output_type": "stream",
     "text": [
      "Epoch 0\n",
      " train loss: 1.5412014193247179, train acc: 0.45064393443206985\n",
      " val loss: 1.3608882409461, val acc: 0.5177748227373082\n",
      "\n",
      "Epoch 1\n",
      " train loss: 1.2420473000685084, train acc: 0.5624387895167419\n",
      " val loss: 1.1431666493415833, val acc: 0.59904698577333\n",
      "\n",
      "Epoch 2\n",
      " train loss: 1.1025865894131077, train acc: 0.6132639070097663\n",
      " val loss: 1.1098940042739218, val acc: 0.6146498226104898\n",
      "\n",
      "Epoch 3\n",
      " train loss: 1.0442908942372533, train acc: 0.6356465461267196\n",
      " val loss: 1.0322012269750553, val acc: 0.6357269502700643\n",
      "\n",
      "Epoch 4\n",
      " train loss: 1.0023598431233296, train acc: 0.6488272068269509\n",
      " val loss: 1.067711124014347, val acc: 0.6332446808510638\n",
      "\n",
      "Epoch 5\n",
      " train loss: 0.9739688601092839, train acc: 0.6621139657562786\n",
      " val loss: 1.0213475810720565, val acc: 0.6459663120990103\n",
      "\n",
      "Epoch 6\n",
      " train loss: 0.9427736970362759, train acc: 0.6736745886654479\n",
      " val loss: 0.956712826515766, val acc: 0.6720744680851064\n",
      "\n",
      "Epoch 7\n",
      " train loss: 0.9300526340221357, train acc: 0.6756700509427016\n",
      " val loss: 0.9376785001856216, val acc: 0.6773936170212767\n",
      "\n",
      "Epoch 8\n",
      " train loss: 0.912472364562521, train acc: 0.6815299360146252\n",
      " val loss: 0.9642576189751321, val acc: 0.6647606382978724\n",
      "\n",
      "Epoch 9\n",
      " train loss: 0.8958078589038395, train acc: 0.6898015148025108\n",
      " val loss: 0.9241449323106319, val acc: 0.6846187944107868\n",
      "\n",
      "Epoch 10\n",
      " train loss: 0.8814688223589491, train acc: 0.6949513580725005\n",
      " val loss: 0.9503563782002064, val acc: 0.6736923758019793\n",
      "\n",
      "Epoch 11\n",
      " train loss: 0.8686525689836394, train acc: 0.6957144489889825\n",
      " val loss: 0.9149295517738829, val acc: 0.6845744680851064\n",
      "\n",
      "Epoch 12\n",
      " train loss: 0.8516547901103004, train acc: 0.7047083115229005\n",
      " val loss: 0.99627834000486, val acc: 0.6688829787234043\n",
      "\n",
      "Epoch 13\n",
      " train loss: 0.8475977768627774, train acc: 0.7055652585064471\n",
      " val loss: 0.9067178043913334, val acc: 0.6918218085106383\n",
      "\n",
      "Epoch 14\n",
      " train loss: 0.8352127201051555, train acc: 0.7079483873229576\n",
      " val loss: 0.8916219135548206, val acc: 0.6929964539852548\n",
      "\n",
      "Epoch 15\n",
      " train loss: 0.8247254274009133, train acc: 0.7147060263309444\n",
      " val loss: 0.9162014798915132, val acc: 0.6848182624958931\n",
      "\n",
      "Epoch 16\n",
      " train loss: 0.8122108047470532, train acc: 0.7173462392425188\n",
      " val loss: 0.9224277945275002, val acc: 0.688187056653043\n",
      "\n",
      "Epoch 17\n",
      " train loss: 0.8076041799031838, train acc: 0.7207454622772538\n",
      " val loss: 0.8952039548691283, val acc: 0.6885638297872341\n",
      "\n",
      "Epoch 18\n",
      " train loss: 0.7986905545922477, train acc: 0.7230714611858947\n",
      " val loss: 0.90007100866196, val acc: 0.6913563829787234\n",
      "\n",
      "Epoch 19\n",
      " train loss: 0.7908224302192493, train acc: 0.7245609166417305\n",
      " val loss: 0.8931263903354076, val acc: 0.6923758864402771\n",
      "\n"
     ]
    }
   ],
   "source": [
    "optimizer = optim.SGD(net.parameters(), lr=0.1, momentum=0.9)\n",
    "train_loss_log, train_acc_log, val_loss_log, val_acc_log = train(\n",
    "    net, optimizer, 20, train_loader, val_loader\n",
    ")"
   ]
  },
  {
   "cell_type": "markdown",
   "metadata": {
    "id": "gUb1jQW8O9Dt",
    "pycharm": {
     "name": "#%% md\n"
    }
   },
   "source": [
    "Посчитайте точность на тестовой выборке:"
   ]
  },
  {
   "cell_type": "code",
   "execution_count": 28,
   "metadata": {
    "id": "Jyuc55B9_Amc",
    "pycharm": {
     "name": "#%%\n"
    }
   },
   "outputs": [
    {
     "name": "stdout",
     "output_type": "stream",
     "text": [
      "Test accuracy: 0.6873\n"
     ]
    }
   ],
   "source": [
    "# <your code here>\n",
    "test_loss, test_acc = test(net, test_loader)\n",
    "print(f\"Test accuracy: {test_acc:.4f}\")"
   ]
  },
  {
   "cell_type": "markdown",
   "metadata": {
    "id": "zM38Q9fwO9Dt",
    "pycharm": {
     "name": "#%% md\n"
    }
   },
   "source": [
    "Если вы все сделали правильно, у вас должна была получиться точность $\\ge 67\\%$."
   ]
  },
  {
   "cell_type": "markdown",
   "metadata": {
    "id": "DHFNSKcoO9Dt",
    "pycharm": {
     "name": "#%% md\n"
    }
   },
   "source": [
    "**Задание 2.2 (1 балл).** Постройте графики зависимости функции потерь и точности классификации от номера шага оптимизатора. На каждом графике расположите данные и для обучающей и для валидационной выборки, итого у вас должно получиться два графика. Обратите внимание, что на обучающей выборке эти данные считаются по каждому батчу, на валидационной же они считаются по всей выборке раз в эпоху."
   ]
  },
  {
   "cell_type": "code",
   "execution_count": 29,
   "metadata": {
    "id": "LzIP0tGLO9Dt",
    "pycharm": {
     "name": "#%%\n"
    }
   },
   "outputs": [
    {
     "data": {
      "image/png": "[encoded data removed]",
      "text/plain": [
       "<Figure size 1200x500 with 2 Axes>"
      ]
     },
     "metadata": {},
     "output_type": "display_data"
    }
   ],
   "source": [
    "# <your code here>\n",
    "import matplotlib.pyplot as plt\n",
    "\n",
    "# Создаем массивы шагов\n",
    "train_steps = range(len(train_loss_log))\n",
    "val_steps = range(0, len(train_loss_log), len(train_loss_log) // len(val_loss_log))[\n",
    "    : len(val_loss_log)\n",
    "]\n",
    "\n",
    "# Настраиваем размер графиков\n",
    "plt.figure(figsize=(12, 5))\n",
    "\n",
    "# График функции потерь\n",
    "plt.subplot(1, 2, 1)\n",
    "plt.plot(train_steps, train_loss_log, label=\"train\", alpha=0.7)\n",
    "plt.plot(val_steps, val_loss_log, label=\"validation\", alpha=0.7)\n",
    "plt.xlabel(\"Step\")\n",
    "plt.ylabel(\"Loss\")\n",
    "plt.title(\"Loss vs Step\")\n",
    "plt.legend()\n",
    "plt.grid(True)\n",
    "\n",
    "# График точности\n",
    "plt.subplot(1, 2, 2)\n",
    "plt.plot(train_steps, train_acc_log, label=\"train\", alpha=0.7)\n",
    "plt.plot(val_steps, val_acc_log, label=\"validation\", alpha=0.7)\n",
    "plt.xlabel(\"Step\")\n",
    "plt.ylabel(\"Accuracy\")\n",
    "plt.title(\"Accuracy vs Step\")\n",
    "plt.legend()\n",
    "plt.grid(True)\n",
    "\n",
    "plt.tight_layout()\n",
    "plt.show()"
   ]
  },
  {
   "cell_type": "markdown",
   "metadata": {
    "id": "_ttOJPj-O9Dt",
    "pycharm": {
     "name": "#%% md\n"
    }
   },
   "source": [
    "## 3. Расписание длины шага (2 балла)"
   ]
  },
  {
   "cell_type": "markdown",
   "metadata": {
    "id": "qiz3JstuO9Dt",
    "pycharm": {
     "name": "#%% md\n"
    }
   },
   "source": [
    "С курса \"Машинное обучение 1\" вы уже должны знать, что сходимость стохастического градиентного спуска мы можем теоретически гарантировать только если будем определенным образом со временем уменьшать длину шага. На практике при обучении нейронных сетей такая техника оказывается очень полезной, однако теоретически обоснованными способами уменьшения длины шага фантазия не ограничивается.\n",
    "\n",
    "Одним из простейших способов является кусочно постоянная функция: на нескольких фиксированных эпохах уменьшаем длину шага в константу раз."
   ]
  },
  {
   "cell_type": "code",
   "execution_count": 30,
   "metadata": {
    "id": "V2Z0OT3nO9Du",
    "pycharm": {
     "name": "#%%\n"
    }
   },
   "outputs": [
    {
     "name": "stdout",
     "output_type": "stream",
     "text": [
      "Epoch 0\n",
      " train loss: 1.4777911940701918, train acc: 0.47464253065573014\n",
      " val loss: 1.2850274978800023, val acc: 0.5546320922831272\n",
      "\n",
      "Epoch 1\n",
      " train loss: 1.142191104086923, train acc: 0.6004913162705667\n",
      " val loss: 1.0705227068130005, val acc: 0.6277039007937655\n",
      "\n",
      "Epoch 2\n",
      " train loss: 1.047090424371158, train acc: 0.6388376533876171\n",
      " val loss: 1.05918237325993, val acc: 0.6307845744680851\n",
      "\n",
      "Epoch 3\n",
      " train loss: 0.9881104247225704, train acc: 0.6565805367403535\n",
      " val loss: 0.973069635857927, val acc: 0.6646719859001484\n",
      "\n",
      "Epoch 4\n",
      " train loss: 0.9495713388244238, train acc: 0.6695979694125858\n",
      " val loss: 1.0134510514583994, val acc: 0.6449689716734784\n",
      "\n",
      "Epoch 5\n",
      " train loss: 0.9229233396772493, train acc: 0.6784204426587609\n",
      " val loss: 0.9292132816416152, val acc: 0.6812056738011381\n",
      "\n",
      "Epoch 6\n",
      " train loss: 0.8991585777599154, train acc: 0.6870470422931302\n",
      " val loss: 0.9404816827875503, val acc: 0.6775265957446809\n",
      "\n",
      "Epoch 7\n",
      " train loss: 0.8756544578010029, train acc: 0.6947432424076296\n",
      " val loss: 0.9691330580001182, val acc: 0.6681515957446809\n",
      "\n",
      "Epoch 8\n",
      " train loss: 0.8570490657084603, train acc: 0.7020721794046475\n",
      " val loss: 0.9252337714459034, val acc: 0.6803191489361702\n",
      "\n",
      "Epoch 9\n",
      " train loss: 0.8448721256508905, train acc: 0.7059243601462523\n",
      " val loss: 0.9103527982184227, val acc: 0.6889627659574468\n",
      "\n",
      "Epoch 10\n",
      " train loss: 0.7400156172363588, train acc: 0.745527552839171\n",
      " val loss: 0.8363840559695629, val acc: 0.7110815603682336\n",
      "\n",
      "Epoch 11\n",
      " train loss: 0.7191625549108934, train acc: 0.7516445221151251\n",
      " val loss: 0.8294754451893745, val acc: 0.7154033688788718\n",
      "\n",
      "Epoch 12\n",
      " train loss: 0.7133151507464798, train acc: 0.7543255418702497\n",
      " val loss: 0.8331462745970868, val acc: 0.7144281914893617\n",
      "\n",
      "Epoch 13\n",
      " train loss: 0.7092440412184002, train acc: 0.7541745560042818\n",
      " val loss: 0.8252606574525224, val acc: 0.7172650710065314\n",
      "\n",
      "Epoch 14\n",
      " train loss: 0.7045498231538253, train acc: 0.7570351266337922\n",
      " val loss: 0.82802006703742, val acc: 0.7157579787234043\n",
      "\n",
      "Epoch 15\n",
      " train loss: 0.6881506685474019, train acc: 0.7636744254685843\n",
      " val loss: 0.8180616969757891, val acc: 0.7191932624958931\n",
      "\n",
      "Epoch 16\n",
      " train loss: 0.685551382396949, train acc: 0.7640090427843265\n",
      " val loss: 0.8179534797972822, val acc: 0.7187943263256803\n",
      "\n",
      "Epoch 17\n",
      " train loss: 0.6848614712192982, train acc: 0.7643395795246801\n",
      " val loss: 0.8182554417468132, val acc: 0.7200797872340425\n",
      "\n",
      "Epoch 18\n",
      " train loss: 0.6844998503297949, train acc: 0.765057782695324\n",
      " val loss: 0.8189063940910583, val acc: 0.7189937944107867\n",
      "\n",
      "Epoch 19\n",
      " train loss: 0.6842766752299705, train acc: 0.7632785975606176\n",
      " val loss: 0.8178710356671759, val acc: 0.7195257093044037\n",
      "\n"
     ]
    }
   ],
   "source": [
    "net = BasicBlockNet().to(device)\n",
    "optimizer = optim.SGD(net.parameters(), lr=0.1, momentum=0.9)\n",
    "scheduler = optim.lr_scheduler.MultiStepLR(optimizer, milestones=[10, 15], gamma=0.1)\n",
    "tr_loss_log, tr_acc_log, val_loss_log, val_acc_log = train(\n",
    "    net, optimizer, 20, train_loader, val_loader, scheduler\n",
    ")"
   ]
  },
  {
   "cell_type": "markdown",
   "metadata": {
    "id": "5Xc76KvzO9Du",
    "pycharm": {
     "name": "#%% md\n"
    }
   },
   "source": [
    "Посчитайте точность на тестовой выборке:"
   ]
  },
  {
   "cell_type": "code",
   "execution_count": 31,
   "metadata": {
    "id": "1AjiYhKqO9Du",
    "pycharm": {
     "name": "#%%\n"
    }
   },
   "outputs": [
    {
     "name": "stdout",
     "output_type": "stream",
     "text": [
      "Test accuracy: 0.7174\n"
     ]
    }
   ],
   "source": [
    "# <your code here>\n",
    "test_loss, test_acc = test(net, test_loader)\n",
    "print(f\"Test accuracy: {test_acc:.4f}\")"
   ]
  },
  {
   "cell_type": "markdown",
   "metadata": {
    "id": "yE0dgLYrO9Du",
    "pycharm": {
     "name": "#%% md\n"
    }
   },
   "source": [
    "**Задание 3.0 (0.5 баллов).** Здесь может возникнуть вопрос: а что будет, если мы не будем уменьшать длину шага в процессе обучения, а сразу возьмем констатную, равную значению нашей кусочно-постоянной функции на последних эпохах, то есть $0.001$ в нашем случае. Запустите обучение и проверьте, что в таком случае мы получим худшее качество на тестовой выборке."
   ]
  },
  {
   "cell_type": "code",
   "execution_count": 33,
   "metadata": {
    "id": "qZ2iB-LBO9Du",
    "pycharm": {
     "name": "#%%\n"
    }
   },
   "outputs": [
    {
     "name": "stdout",
     "output_type": "stream",
     "text": [
      "Epoch 0\n",
      " train loss: 1.8135576594682237, train acc: 0.36416982242350604\n",
      " val loss: 1.5893262680540694, val acc: 0.44858156024141516\n",
      "\n",
      "Epoch 1\n",
      " train loss: 1.5090305896738112, train acc: 0.46976609427270766\n",
      " val loss: 1.4353756432837628, val acc: 0.4899822695458189\n",
      "\n",
      "Epoch 2\n",
      " train loss: 1.3959659455681195, train acc: 0.5076227474692099\n",
      " val loss: 1.3558501801592238, val acc: 0.524423758907521\n",
      "\n",
      "Epoch 3\n",
      " train loss: 1.3305564152257316, train acc: 0.5321477539360632\n",
      " val loss: 1.308592806471155, val acc: 0.538031914893617\n",
      "\n",
      "Epoch 4\n",
      " train loss: 1.275084083651276, train acc: 0.5545099895222749\n",
      " val loss: 1.290030168979726, val acc: 0.5512189716734784\n",
      "\n",
      "Epoch 5\n",
      " train loss: 1.227277475475611, train acc: 0.5698983089579525\n",
      " val loss: 1.2250408913226838, val acc: 0.5675088652904997\n",
      "\n",
      "Epoch 6\n",
      " train loss: 1.1859566924558915, train acc: 0.5840583377172132\n",
      " val loss: 1.1935937731824022, val acc: 0.5830452127659574\n",
      "\n",
      "Epoch 7\n",
      " train loss: 1.1464357325974068, train acc: 0.5984550470407963\n",
      " val loss: 1.1269553932737797, val acc: 0.6086214538584365\n",
      "\n",
      "Epoch 8\n",
      " train loss: 1.1085680159833793, train acc: 0.6142555171218607\n",
      " val loss: 1.1128830957919993, val acc: 0.6098625886947551\n",
      "\n",
      "Epoch 9\n",
      " train loss: 1.0859560018483638, train acc: 0.6177241120085638\n",
      " val loss: 1.0590556943670233, val acc: 0.6362588652904998\n",
      "\n",
      "Epoch 10\n",
      " train loss: 1.056857958245321, train acc: 0.6316270566727605\n",
      " val loss: 1.0547924412057754, val acc: 0.6319148936170212\n",
      "\n",
      "Epoch 11\n",
      " train loss: 1.0404823520501745, train acc: 0.637433892630136\n",
      " val loss: 1.0510251172045444, val acc: 0.6344193263256803\n",
      "\n",
      "Epoch 12\n",
      " train loss: 1.021799354383235, train acc: 0.6441425633168961\n",
      " val loss: 1.0429040439585422, val acc: 0.6369015957446809\n",
      "\n",
      "Epoch 13\n",
      " train loss: 1.0016412506155818, train acc: 0.6490189997544018\n",
      " val loss: 1.01280244741034, val acc: 0.6482047872340425\n",
      "\n",
      "Epoch 14\n",
      " train loss: 0.9899777327638658, train acc: 0.6544871376027137\n",
      " val loss: 0.9987010212654763, val acc: 0.6559840425531915\n",
      "\n",
      "Epoch 15\n",
      " train loss: 0.9790031916480614, train acc: 0.6578781992687386\n",
      " val loss: 1.0004758066319406, val acc: 0.6543218085106383\n",
      "\n",
      "Epoch 16\n",
      " train loss: 0.9651995484310268, train acc: 0.6651908135283364\n",
      " val loss: 0.9775525060105831, val acc: 0.6597074468085107\n",
      "\n",
      "Epoch 17\n",
      " train loss: 0.9536279277566146, train acc: 0.6696877447952954\n",
      " val loss: 0.9586333112513765, val acc: 0.6694592199427016\n",
      "\n",
      "Epoch 18\n",
      " train loss: 0.9466447252678043, train acc: 0.6714342844551616\n",
      " val loss: 0.9903153941986409, val acc: 0.6550310284533399\n",
      "\n",
      "Epoch 19\n",
      " train loss: 0.9332000499887484, train acc: 0.675833278970701\n",
      " val loss: 1.0114661204054, val acc: 0.6481382978723405\n",
      "\n",
      "Test accuracy with constant lr=0.001: 0.6478\n"
     ]
    }
   ],
   "source": [
    "# <your code here>\n",
    "# Создаем новую модель\n",
    "net = BasicBlockNet().to(device)\n",
    "\n",
    "# Инициализируем оптимизатор с маленькой скоростью обучения\n",
    "optimizer = optim.SGD(net.parameters(), lr=0.001, momentum=0.9)\n",
    "\n",
    "# Обучаем модель\n",
    "train_loss_log, train_acc_log, val_loss_log, val_acc_log = train(\n",
    "    net, optimizer, 20, train_loader, val_loader\n",
    ")\n",
    "\n",
    "# Проверяем качество на тестовой выборке\n",
    "test_loss, test_acc = test(net, test_loader)\n",
    "print(f\"Test accuracy with constant lr=0.001: {test_acc:.4f}\")"
   ]
  },
  {
   "cell_type": "markdown",
   "metadata": {
    "id": "xVotU378O9Du",
    "pycharm": {
     "name": "#%% md\n"
    }
   },
   "source": [
    "**Задание 3.1 (1.5 балла).** Изучите, какие еще способы уменьшения длины шага представлены в <code>torch.optim.lr_scheduler</code>. Выберите несколько из них, объясните, как они устроены, и обучите модель с ними. Удалось ли добиться улучшения качества на тестовой выборке?"
   ]
  },
  {
   "cell_type": "markdown",
   "metadata": {},
   "source": [
    "1. **ExponentialLR** - экспоненциальное уменьшение скорости обучения\n",
    "- Умножает learning rate на фиксированный коэффициент gamma после каждой эпохи\n",
    "- `lr = initial_lr * gamma^epoch`\n",
    "- Плавное, но постоянное уменьшение скорости обучения\n",
    "- Хорош, когда мы знаем, что нужно постепенное замедление"
   ]
  },
  {
   "cell_type": "code",
   "execution_count": 34,
   "metadata": {
    "id": "nkGlzocOO9Du",
    "pycharm": {
     "name": "#%%\n"
    }
   },
   "outputs": [
    {
     "name": "stdout",
     "output_type": "stream",
     "text": [
      "Training with ExponentialLR scheduler:\n",
      "Epoch 0\n",
      " train loss: 1.539454738335374, train acc: 0.44839954953742855\n",
      " val loss: 1.3608211334715499, val acc: 0.5226728723404256\n",
      "\n",
      "Epoch 1\n",
      " train loss: 1.2110934665041824, train acc: 0.5734893249201383\n",
      " val loss: 1.1239529335752447, val acc: 0.6082003545253835\n",
      "\n",
      "Epoch 2\n",
      " train loss: 1.0630779894004139, train acc: 0.6297499346776679\n",
      " val loss: 1.0540917541118378, val acc: 0.6362145389648194\n",
      "\n",
      "Epoch 3\n",
      " train loss: 0.9884760688166295, train acc: 0.6595472054899938\n",
      " val loss: 0.9619793430287787, val acc: 0.6646719859001484\n",
      "\n",
      "Epoch 4\n",
      " train loss: 0.9438082829689849, train acc: 0.672393248874483\n",
      " val loss: 1.0115690733524079, val acc: 0.6465203900286491\n",
      "\n",
      "Epoch 5\n",
      " train loss: 0.90910049907904, train acc: 0.6854800535076497\n",
      " val loss: 0.9625457844835646, val acc: 0.6677969859001485\n",
      "\n",
      "Epoch 6\n",
      " train loss: 0.8775322026482884, train acc: 0.6947269195612431\n",
      " val loss: 0.950785581609036, val acc: 0.6739583332487877\n",
      "\n",
      "Epoch 7\n",
      " train loss: 0.8515528177866334, train acc: 0.7068139527136055\n",
      " val loss: 0.9243598970961063, val acc: 0.6830452127659574\n",
      "\n",
      "Epoch 8\n",
      " train loss: 0.8260007851520448, train acc: 0.7142489879397195\n",
      " val loss: 0.8961606378250934, val acc: 0.6920434396317665\n",
      "\n",
      "Epoch 9\n",
      " train loss: 0.8096948611452985, train acc: 0.721426939179736\n",
      " val loss: 0.8772601670407234, val acc: 0.6997562055892133\n",
      "\n",
      "Epoch 10\n",
      " train loss: 0.7891625135428727, train acc: 0.7262952141395652\n",
      " val loss: 0.88411160529928, val acc: 0.6945700353764473\n",
      "\n",
      "Epoch 11\n",
      " train loss: 0.7770401217601853, train acc: 0.7307472577696527\n",
      " val loss: 0.856476771070602, val acc: 0.7042996454746165\n",
      "\n",
      "Epoch 12\n",
      " train loss: 0.7631269320709396, train acc: 0.7353258030506113\n",
      " val loss: 0.8465644050151744, val acc: 0.7120567375041069\n",
      "\n",
      "Epoch 13\n",
      " train loss: 0.7464726998775489, train acc: 0.7429607926818527\n",
      " val loss: 0.8893828567038191, val acc: 0.6943040779296388\n",
      "\n",
      "Epoch 14\n",
      " train loss: 0.7356755717689856, train acc: 0.7442380516794961\n",
      " val loss: 0.8450644838049056, val acc: 0.7081560284533399\n",
      "\n",
      "Epoch 15\n",
      " train loss: 0.7233446801057464, train acc: 0.7517302168134797\n",
      " val loss: 0.8348751437156758, val acc: 0.7143838651636814\n",
      "\n",
      "Epoch 16\n",
      " train loss: 0.7136063111002746, train acc: 0.7557660290048589\n",
      " val loss: 0.8189486984242784, val acc: 0.7219414893617021\n",
      "\n",
      "Epoch 17\n",
      " train loss: 0.7030642628669739, train acc: 0.7585368242516596\n",
      " val loss: 0.8178018937719629, val acc: 0.7203900710065314\n",
      "\n",
      "Epoch 18\n",
      " train loss: 0.6953666703247718, train acc: 0.7612096826380742\n",
      " val loss: 0.82448429376521, val acc: 0.7211657800572984\n",
      "\n",
      "Epoch 19\n",
      " train loss: 0.6869496459063054, train acc: 0.7624461347921675\n",
      " val loss: 0.8176633725775049, val acc: 0.7202570922831272\n",
      "\n",
      "Test accuracy with ExponentialLR: 0.7159\n",
      "\n"
     ]
    }
   ],
   "source": [
    "net = BasicBlockNet().to(device)\n",
    "optimizer = optim.SGD(net.parameters(), lr=0.1, momentum=0.9)\n",
    "scheduler = optim.lr_scheduler.ExponentialLR(\n",
    "    optimizer, gamma=0.9\n",
    ")  # Множитель 0.9 каждую эпоху\n",
    "print(\"Training with ExponentialLR scheduler:\")\n",
    "tr_loss_log, tr_acc_log, val_loss_log, val_acc_log = train(\n",
    "    net, optimizer, 20, train_loader, val_loader, scheduler\n",
    ")\n",
    "test_loss, test_acc = test(net, test_loader)\n",
    "print(f\"Test accuracy with ExponentialLR: {test_acc:.4f}\\n\")"
   ]
  },
  {
   "cell_type": "markdown",
   "metadata": {},
   "source": [
    "2. **CosineAnnealingLR** - косинусоидное изменение скорости обучения\n",
    "- Изменяет learning rate по косинусоидальному закону\n",
    "- `lr = lr_min + (lr_max - lr_min) * (1 + cos(epoch * pi / T_max)) / 2`\n",
    "- Позволяет модели периодически \"выпрыгивать\" из локальных минимумов\n",
    "- Особенно эффективен при длительном обучении"
   ]
  },
  {
   "cell_type": "code",
   "execution_count": 35,
   "metadata": {},
   "outputs": [
    {
     "name": "stdout",
     "output_type": "stream",
     "text": [
      "Training with CosineAnnealingLR scheduler:\n",
      "Epoch 0\n",
      " train loss: 1.5460711754654182, train acc: 0.45047662571971553\n",
      " val loss: 1.2769642558503658, val acc: 0.5490248227373082\n",
      "\n",
      "Epoch 1\n",
      " train loss: 1.2137459895728493, train acc: 0.5736892792162991\n",
      " val loss: 1.1167574849534543, val acc: 0.6054078013338942\n",
      "\n",
      "Epoch 2\n",
      " train loss: 1.0724469364452187, train acc: 0.6262772591066099\n",
      " val loss: 1.0697903280562542, val acc: 0.6340203901554676\n",
      "\n",
      "Epoch 3\n",
      " train loss: 1.0035424181268682, train acc: 0.651753068733041\n",
      " val loss: 1.0237083069821622, val acc: 0.6480718085106383\n",
      "\n",
      "Epoch 4\n",
      " train loss: 0.9592735251953223, train acc: 0.6682309349232661\n",
      " val loss: 1.0295518563148822, val acc: 0.6386081561129144\n",
      "\n",
      "Epoch 5\n",
      " train loss: 0.9344422094782702, train acc: 0.6771595063985375\n",
      " val loss: 0.9363142520823378, val acc: 0.676529255319149\n",
      "\n",
      "Epoch 6\n",
      " train loss: 0.9025149621083052, train acc: 0.6867287477148081\n",
      " val loss: 0.9345551247292376, val acc: 0.6756870566530431\n",
      "\n",
      "Epoch 7\n",
      " train loss: 0.876232322543805, train acc: 0.6974650692242373\n",
      " val loss: 0.9494106652888846, val acc: 0.6735593970785749\n",
      "\n",
      "Epoch 8\n",
      " train loss: 0.8489543687708853, train acc: 0.7045450836038677\n",
      " val loss: 0.9702768554078772, val acc: 0.6655806736743196\n",
      "\n",
      "Epoch 9\n",
      " train loss: 0.8313654919973893, train acc: 0.7099152847007598\n",
      " val loss: 0.8779352205864926, val acc: 0.7003102837724888\n",
      "\n",
      "Epoch 10\n",
      " train loss: 0.8068852268799568, train acc: 0.7209862235259312\n",
      " val loss: 0.9294275780941578, val acc: 0.6794547872340425\n",
      "\n",
      "Epoch 11\n",
      " train loss: 0.7873531501515474, train acc: 0.7261972773881455\n",
      " val loss: 0.8726228797689397, val acc: 0.6999556736743197\n",
      "\n",
      "Epoch 12\n",
      " train loss: 0.7667212123953664, train acc: 0.7349177330895795\n",
      " val loss: 0.856930599567738, val acc: 0.7088652481424048\n",
      "\n",
      "Epoch 13\n",
      " train loss: 0.749132237334138, train acc: 0.7392310329067642\n",
      " val loss: 0.8461127331916322, val acc: 0.7113031914893617\n",
      "\n",
      "Epoch 14\n",
      " train loss: 0.7281167642834854, train acc: 0.7479922956696812\n",
      " val loss: 0.8139589042105573, val acc: 0.7210771276595744\n",
      "\n",
      "Epoch 15\n",
      " train loss: 0.7139569809711394, train acc: 0.7528116021993173\n",
      " val loss: 0.8205149729201134, val acc: 0.7193927305809995\n",
      "\n",
      "Epoch 16\n",
      " train loss: 0.7009416436691389, train acc: 0.756908624982921\n",
      " val loss: 0.8051815740605618, val acc: 0.7270168438870857\n",
      "\n",
      "Epoch 17\n",
      " train loss: 0.6875364602810722, train acc: 0.761646317607524\n",
      " val loss: 0.8017698432536835, val acc: 0.7244902481424048\n",
      "\n",
      "Epoch 18\n",
      " train loss: 0.6809838526427637, train acc: 0.7646946003711638\n",
      " val loss: 0.7985282144647964, val acc: 0.727437943346957\n",
      "\n",
      "Epoch 19\n",
      " train loss: 0.673714312545996, train acc: 0.7676367850146738\n",
      " val loss: 0.7960215502596916, val acc: 0.7267287234042553\n",
      "\n",
      "Test accuracy with CosineAnnealingLR: 0.7203\n",
      "\n"
     ]
    }
   ],
   "source": [
    "net = BasicBlockNet().to(device)\n",
    "optimizer = optim.SGD(net.parameters(), lr=0.1, momentum=0.9)\n",
    "scheduler = optim.lr_scheduler.CosineAnnealingLR(optimizer, T_max=20)  # Период 20 эпох\n",
    "print(\"Training with CosineAnnealingLR scheduler:\")\n",
    "tr_loss_log, tr_acc_log, val_loss_log, val_acc_log = train(\n",
    "    net, optimizer, 20, train_loader, val_loader, scheduler\n",
    ")\n",
    "test_loss, test_acc = test(net, test_loader)\n",
    "print(f\"Test accuracy with CosineAnnealingLR: {test_acc:.4f}\\n\")"
   ]
  },
  {
   "cell_type": "markdown",
   "metadata": {},
   "source": [
    "3. **ReduceLROnPlateau** - уменьшение скорости обучения при отсутствии улучшения\n",
    "- Уменьшает learning rate, когда метрика перестает улучшаться\n",
    "- Если в течение patience эпох нет улучшения, lr умножается на factor\n",
    "- Адаптивно подстраивается под процесс обучения\n",
    "- Хорош, когда мы не знаем оптимальное расписание заранее"
   ]
  },
  {
   "cell_type": "code",
   "execution_count": 38,
   "metadata": {},
   "outputs": [
    {
     "name": "stdout",
     "output_type": "stream",
     "text": [
      "Training with ReduceLROnPlateau scheduler:\n"
     ]
    },
    {
     "name": "stdout",
     "output_type": "stream",
     "text": [
      "Epoch 0\n",
      " train loss: 1.489127605881072, train acc: 0.46603633455210236\n",
      " val loss: 1.2403352940336188, val acc: 0.5605718085106383\n",
      "\n",
      "Epoch 1\n",
      " train loss: 1.1846829833670551, train acc: 0.5851029968348892\n",
      " val loss: 1.113541638597529, val acc: 0.6053191489361702\n",
      "\n",
      "Epoch 2\n",
      " train loss: 1.0656430595971549, train acc: 0.6296846435100548\n",
      " val loss: 1.0527805569324087, val acc: 0.6386303191489362\n",
      "\n",
      "Epoch 3\n",
      " train loss: 1.0100393800892384, train acc: 0.6519693457666219\n",
      " val loss: 1.0455240457615953, val acc: 0.6351728723404255\n",
      "\n",
      "Epoch 4\n",
      " train loss: 0.9709774722128943, train acc: 0.6627995233431159\n",
      " val loss: 0.9986731288280893, val acc: 0.6554078014607125\n",
      "\n",
      "Epoch 5\n",
      " train loss: 0.9372550301403625, train acc: 0.6743111778220922\n",
      " val loss: 0.9729741776243169, val acc: 0.6640070922831272\n",
      "\n",
      "Epoch 6\n",
      " train loss: 0.9081279989570324, train acc: 0.6848434643510055\n",
      " val loss: 0.9309284121432203, val acc: 0.680873226865809\n",
      "\n",
      "Epoch 7\n",
      " train loss: 0.8938423026850281, train acc: 0.689874967338834\n",
      " val loss: 0.9346782377425661, val acc: 0.6732269502700643\n",
      "\n",
      "Epoch 8\n",
      " train loss: 0.8711847686898337, train acc: 0.6974936341236888\n",
      " val loss: 0.9065391380736169, val acc: 0.6887411348363186\n",
      "\n",
      "Epoch 9\n",
      " train loss: 0.8586894934094584, train acc: 0.701268281535649\n",
      " val loss: 1.0152886347567782, val acc: 0.6594636523977239\n",
      "\n",
      "Epoch 10\n",
      " train loss: 0.8457219290123126, train acc: 0.7088175763595692\n",
      " val loss: 0.9314298655124421, val acc: 0.6786125885679367\n",
      "\n",
      "Epoch 11\n",
      " train loss: 0.8334683482237228, train acc: 0.7128860342437214\n",
      " val loss: 0.8705201930188118, val acc: 0.700908688027808\n",
      "\n",
      "Epoch 12\n",
      " train loss: 0.8205908217094499, train acc: 0.7149059806271053\n",
      " val loss: 0.8892337596162837, val acc: 0.698470744680851\n",
      "\n",
      "Epoch 13\n",
      " train loss: 0.8040441674549793, train acc: 0.7225858578952182\n",
      " val loss: 0.862881216343413, val acc: 0.7061170212765957\n",
      "\n",
      "Epoch 14\n",
      " train loss: 0.7987418113177611, train acc: 0.7236386784905707\n",
      " val loss: 0.9095710254730063, val acc: 0.6841090425531915\n",
      "\n",
      "Epoch 15\n",
      " train loss: 0.790533393457995, train acc: 0.7273235505198212\n",
      " val loss: 0.8877723437674502, val acc: 0.6904476949509154\n",
      "\n",
      "Epoch 16\n",
      " train loss: 0.7791141912858709, train acc: 0.7313022329122972\n",
      " val loss: 0.8988172982601409, val acc: 0.696343085106383\n",
      "\n",
      "Epoch 17\n",
      " train loss: 0.778206478906506, train acc: 0.732506039482584\n",
      " val loss: 0.8916736366900991, val acc: 0.6996675531914893\n",
      "\n",
      "Epoch 18\n",
      " train loss: 0.67478677875599, train acc: 0.7665635609975463\n",
      " val loss: 0.805849377652432, val acc: 0.728125\n",
      "\n",
      "Epoch 19\n",
      " train loss: 0.6588327664561856, train acc: 0.7745698942126914\n",
      " val loss: 0.7920815668207534, val acc: 0.7341976949509154\n",
      "\n",
      "Test accuracy with ReduceLROnPlateau: 0.7245\n",
      "\n"
     ]
    }
   ],
   "source": [
    "net = BasicBlockNet().to(device)\n",
    "optimizer = optim.SGD(net.parameters(), lr=0.1, momentum=0.9)\n",
    "scheduler = optim.lr_scheduler.ReduceLROnPlateau(\n",
    "    optimizer, mode=\"min\", factor=0.1, patience=3\n",
    ")\n",
    "print(\"Training with ReduceLROnPlateau scheduler:\")\n",
    "tr_loss_log, tr_acc_log, val_loss_log, val_acc_log = train(\n",
    "    net, optimizer, 20, train_loader, val_loader, scheduler\n",
    ")\n",
    "test_loss, test_acc = test(net, test_loader)\n",
    "print(f\"Test accuracy with ReduceLROnPlateau: {test_acc:.4f}\\n\")"
   ]
  },
  {
   "cell_type": "markdown",
   "metadata": {
    "id": "5a_zMNNVO9Du",
    "pycharm": {
     "name": "#%% md\n"
    }
   },
   "source": [
    "Your answers here:\n",
    "\n",
    "| Scheduler            | Test Acc | Особенности                           |\n",
    "|----------------------|----------|---------------------------------------|\n",
    "| Константа 0.01       | 0.6873   | Бейзлайн                              |\n",
    "| Константа 0.001      | 0.6478   | Обучалось дольше, результат - хуже    |\n",
    "| MultiStepLR          | 0.7174   | Ступенчатое изменение в эпохи [10, 15] |\n",
    "| ExponentialLR        | 0.7159   | Плавное уменьшение learning rate       |\n",
    "| CosineAnnealingLR    | 0.7203   | Периодическое \"выпрыгивание\" из локальных минимумов |\n",
    "| ReduceLROnPlateau    | 0.7245   | Адаптивное уменьшение при плато       |\n",
    "\n",
    "Опробовали несколько вариантов шедулеров LR. Очевидно, что ReduceLROnPlateau среди них является лучшим выбором, т.к. при сохранении скорости обучения, показывает лучшую точность на тестовых данных.\n"
   ]
  },
  {
   "cell_type": "markdown",
   "metadata": {
    "id": "7xFXgl_3_E--",
    "pycharm": {
     "name": "#%% md\n"
    }
   },
   "source": [
    "## 4. Аугментации данных (2 балла)"
   ]
  },
  {
   "cell_type": "markdown",
   "metadata": {
    "id": "5G0Easo9O9Du",
    "pycharm": {
     "name": "#%% md\n"
    }
   },
   "source": [
    "Еще одной стандартной техникой, применяющейся в глубинном обучении, а особенно часто в компьютерном зрении, являются аугментации данных. Суть аугментаций состоит в том, что мы можем некоторым синтетическим образом видоизменять объекты обучающей выборки, тем самым расширяя ее, а также делая итоговую модель более устойчивой к таким изменениям.\n",
    "\n",
    "Простейшая аугментация, которую можно применить к картинкам — разворот картинки по горизонтальной оси. То есть при обучении модели с вероятностью $0.5$ мы будем разворачивать картинку из обучающей выборки."
   ]
  },
  {
   "cell_type": "code",
   "execution_count": 40,
   "metadata": {
    "id": "SzeFpgtfO9Du",
    "pycharm": {
     "name": "#%%\n"
    }
   },
   "outputs": [
    {
     "data": {
      "image/png": "[encoded data removed]",
      "text/plain": [
       "<Figure size 640x480 with 1 Axes>"
      ]
     },
     "metadata": {},
     "output_type": "display_data"
    },
    {
     "data": {
      "image/png": "[encoded data removed]",
      "text/plain": [
       "<Figure size 640x480 with 1 Axes>"
      ]
     },
     "metadata": {},
     "output_type": "display_data"
    }
   ],
   "source": [
    "dataiter = iter(train_loader)\n",
    "images, labels = next(dataiter)\n",
    "\n",
    "imshow(torchvision.utils.make_grid(images[:4]))\n",
    "\n",
    "imshow(torchvision.utils.make_grid(transforms.functional.hflip(images[:4])))"
   ]
  },
  {
   "cell_type": "markdown",
   "metadata": {
    "id": "BR4a-XJQO9Du",
    "pycharm": {
     "name": "#%% md\n"
    }
   },
   "source": [
    "Наиболее удобным способом работы с аугментациями в PyTorch является их задание в списке <code>transforms</code>, который затем передается в загрузчик данных. Обучим нашу сеть, применяя горизонтальные повороты:"
   ]
  },
  {
   "cell_type": "code",
   "execution_count": 41,
   "metadata": {
    "id": "na0ScBf-_AqX",
    "pycharm": {
     "name": "#%%\n"
    },
    "scrolled": true
   },
   "outputs": [
    {
     "name": "stdout",
     "output_type": "stream",
     "text": [
      "Epoch 0\n",
      " train loss: 1.474451385315855, train acc: 0.47185949335586436\n",
      " val loss: 1.2120962361071972, val acc: 0.5809840425531915\n",
      "\n",
      "Epoch 1\n",
      " train loss: 1.1720157766908788, train acc: 0.5880778270622058\n",
      " val loss: 1.105155943302398, val acc: 0.6172872340425531\n",
      "\n",
      "Epoch 2\n",
      " train loss: 1.0633479582326286, train acc: 0.6303293941443755\n",
      " val loss: 1.1357376859543171, val acc: 0.6048758865670955\n",
      "\n",
      "Epoch 3\n",
      " train loss: 1.0174067090154784, train acc: 0.6460319273650538\n",
      " val loss: 1.0500890513683887, val acc: 0.6335328013338941\n",
      "\n",
      "Epoch 4\n",
      " train loss: 0.9742590131227887, train acc: 0.6590085531937356\n",
      " val loss: 0.9948344535015999, val acc: 0.6537898936170212\n",
      "\n",
      "Epoch 5\n",
      " train loss: 0.9441995381001362, train acc: 0.6733807783022223\n",
      " val loss: 0.9762356501944521, val acc: 0.6605274823117764\n",
      "\n",
      "Epoch 6\n",
      " train loss: 0.9264209086324005, train acc: 0.6782000848318585\n",
      " val loss: 0.9161308960711703, val acc: 0.6785682624958931\n",
      "\n",
      "Epoch 7\n",
      " train loss: 0.903950100625019, train acc: 0.6878386981090636\n",
      " val loss: 0.9651221356493361, val acc: 0.669902482184958\n",
      "\n",
      "Epoch 8\n",
      " train loss: 0.8854453053727228, train acc: 0.6959184839694984\n",
      " val loss: 0.9338250781627412, val acc: 0.6704565603682335\n",
      "\n",
      "Epoch 9\n",
      " train loss: 0.8714841389568894, train acc: 0.6986199072553645\n",
      " val loss: 0.8886213614585552, val acc: 0.6962322695458188\n",
      "\n",
      "Epoch 10\n",
      " train loss: 0.7843340156936994, train acc: 0.7296821951212351\n",
      " val loss: 0.8191140389188807, val acc: 0.7199689715466601\n",
      "\n",
      "Epoch 11\n",
      " train loss: 0.7684262943551134, train acc: 0.7349993471035792\n",
      " val loss: 0.808963073187686, val acc: 0.7225842199427016\n",
      "\n",
      "Epoch 12\n",
      " train loss: 0.7603208636235057, train acc: 0.7386515735490231\n",
      " val loss: 0.8097002105509982, val acc: 0.7199911348363186\n",
      "\n",
      "Epoch 13\n",
      " train loss: 0.755229243140334, train acc: 0.7388556085295389\n",
      " val loss: 0.8076842120353211, val acc: 0.7212101063829788\n",
      "\n",
      "Epoch 14\n",
      " train loss: 0.7497006428089177, train acc: 0.7398594606946983\n",
      " val loss: 0.800667441905813, val acc: 0.725620567291341\n",
      "\n",
      "Epoch 15\n",
      " train loss: 0.7395569219013891, train acc: 0.7428098067069184\n",
      " val loss: 0.7977428300583617, val acc: 0.7258865247381494\n",
      "\n",
      "Epoch 16\n",
      " train loss: 0.7372792541326945, train acc: 0.7451806933613975\n",
      " val loss: 0.7938769584006452, val acc: 0.7271276595744681\n",
      "\n",
      "Epoch 17\n",
      " train loss: 0.7346625974234977, train acc: 0.7471883978006827\n",
      " val loss: 0.7941912747443991, val acc: 0.7257535460147452\n",
      "\n",
      "Epoch 18\n",
      " train loss: 0.7359840777282087, train acc: 0.7441441956124314\n",
      " val loss: 0.7951171290367207, val acc: 0.7266179077168728\n",
      "\n",
      "Epoch 19\n",
      " train loss: 0.7342294549920223, train acc: 0.7467680856776194\n",
      " val loss: 0.7915163570262016, val acc: 0.7284574468085107\n",
      "\n"
     ]
    }
   ],
   "source": [
    "transform = transforms.Compose(\n",
    "    [\n",
    "        transforms.RandomHorizontalFlip(),\n",
    "        transforms.ToTensor(),\n",
    "        transforms.Normalize((0.5, 0.5, 0.5), (0.5, 0.5, 0.5)),\n",
    "    ]\n",
    ")\n",
    "\n",
    "train_loader, val_loader, test_loader = get_cifar10_data(\n",
    "    batch_size=64, transform_train=transform\n",
    ")\n",
    "\n",
    "net = BasicBlockNet().to(device)\n",
    "optimizer = optim.SGD(net.parameters(), lr=0.1, momentum=0.9)\n",
    "scheduler = optim.lr_scheduler.MultiStepLR(optimizer, milestones=[10, 15], gamma=0.1)\n",
    "tr_loss_log, tr_acc_log, val_loss_log, val_acc_log = train(\n",
    "    net, optimizer, 20, train_loader, val_loader, scheduler\n",
    ")"
   ]
  },
  {
   "cell_type": "markdown",
   "metadata": {
    "id": "v3ZIqDQqO9Dv",
    "pycharm": {
     "name": "#%% md\n"
    }
   },
   "source": [
    "Посчитайте точность на тестовой выборке:"
   ]
  },
  {
   "cell_type": "code",
   "execution_count": 42,
   "metadata": {
    "id": "nNJizMkM_Auh",
    "pycharm": {
     "name": "#%%\n"
    }
   },
   "outputs": [
    {
     "name": "stdout",
     "output_type": "stream",
     "text": [
      "Test accuracy with RandomHorizontalFlip: 0.7244\n",
      "\n"
     ]
    }
   ],
   "source": [
    "# <your code here>\n",
    "test_loss, test_acc = test(net, test_loader)\n",
    "print(f\"Test accuracy with RandomHorizontalFlip: {test_acc:.4f}\\n\")"
   ]
  },
  {
   "cell_type": "markdown",
   "metadata": {
    "id": "KndehSCHO9Dv",
    "pycharm": {
     "name": "#%% md\n"
    }
   },
   "source": [
    "**Задание 4.1 (2 балла).** Изучите, какие еще способы аугментаций изображений представлены в <code>torchvision.transforms</code>. Выберите несколько из них, объясните, как они устроены, и обучите модель с ними (по отдельности и вместе). Удалось ли добиться улучшения качества на тестовой выборке?"
   ]
  },
  {
   "cell_type": "markdown",
   "metadata": {},
   "source": [
    "Попробуем:\n",
    "- RandomRotation\n",
    "- RandomCrop\n",
    "- ColorJitter\n",
    "- Комбинация всех трех сразу"
   ]
  },
  {
   "cell_type": "code",
   "execution_count": 43,
   "metadata": {
    "id": "Np4rgvdZ_QRF",
    "pycharm": {
     "name": "#%%\n"
    }
   },
   "outputs": [
    {
     "name": "stdout",
     "output_type": "stream",
     "text": [
      "Training with RandomRotation augmentation:\n",
      "Epoch 0\n",
      " train loss: 1.5810502240165278, train acc: 0.43170132541133455\n",
      " val loss: 1.3777068959905747, val acc: 0.5109929078436912\n",
      "\n",
      "Epoch 1\n",
      " train loss: 1.333311267483169, train acc: 0.5232191825697583\n",
      " val loss: 1.2142045363466791, val acc: 0.5723847517307769\n",
      "\n",
      "Epoch 2\n",
      " train loss: 1.2063057242843307, train acc: 0.5733913880597521\n",
      " val loss: 1.1981075015473872, val acc: 0.5674202127659574\n",
      "\n",
      "Epoch 3\n",
      " train loss: 1.1398210429622224, train acc: 0.599585400856827\n",
      " val loss: 1.161858995417331, val acc: 0.5874335106382979\n",
      "\n",
      "Epoch 4\n",
      " train loss: 1.091687202344647, train acc: 0.6184708800786592\n",
      " val loss: 1.1036845506505764, val acc: 0.6154476949509154\n",
      "\n",
      "Epoch 5\n",
      " train loss: 1.0682221527945188, train acc: 0.6246164142540648\n",
      " val loss: 1.119717023474105, val acc: 0.6103058510638298\n",
      "\n",
      "Epoch 6\n",
      " train loss: 1.033890482821456, train acc: 0.6377481065241031\n",
      " val loss: 1.049777127326803, val acc: 0.6323581561129143\n",
      "\n",
      "Epoch 7\n",
      " train loss: 1.0135209550587307, train acc: 0.6478560002455982\n",
      " val loss: 1.0626567148147745, val acc: 0.6353280140998515\n",
      "\n",
      "Epoch 8\n",
      " train loss: 0.9930843716347675, train acc: 0.6522223491773309\n",
      " val loss: 1.026091666424528, val acc: 0.6364804965384463\n",
      "\n",
      "Epoch 9\n",
      " train loss: 0.9806370811444968, train acc: 0.6587841146824782\n",
      " val loss: 1.0230183956470895, val acc: 0.6423980497299356\n",
      "\n",
      "Epoch 10\n",
      " train loss: 0.8765242707794719, train acc: 0.693372127233955\n",
      " val loss: 0.9202108190414754, val acc: 0.6763076241980208\n",
      "\n",
      "Epoch 11\n",
      " train loss: 0.8621343627054469, train acc: 0.7015580112145196\n",
      " val loss: 0.9121026992797852, val acc: 0.6830008864402771\n",
      "\n",
      "Epoch 12\n",
      " train loss: 0.8532056721298524, train acc: 0.7029209650194841\n",
      " val loss: 0.9085787831468785, val acc: 0.6853501773895101\n",
      "\n",
      "Epoch 13\n",
      " train loss: 0.8499042825463485, train acc: 0.703692217304676\n",
      " val loss: 0.906749929265773, val acc: 0.6830673758019792\n",
      "\n",
      "Epoch 14\n",
      " train loss: 0.846964996083345, train acc: 0.7073077173729919\n",
      " val loss: 0.9135933416955014, val acc: 0.6809618795171697\n",
      "\n",
      "Epoch 15\n",
      " train loss: 0.8321634775650785, train acc: 0.7117515996343693\n",
      " val loss: 0.9006215983248772, val acc: 0.6861702127659575\n",
      "\n",
      "Epoch 16\n",
      " train loss: 0.8321885864303142, train acc: 0.711898504815982\n",
      " val loss: 0.8980302775159795, val acc: 0.6865026595744681\n",
      "\n",
      "Epoch 17\n",
      " train loss: 0.8308692119021303, train acc: 0.7124371572212066\n",
      " val loss: 0.9007820819286589, val acc: 0.6873891843126175\n",
      "\n",
      "Epoch 18\n",
      " train loss: 0.8276358713179663, train acc: 0.7137225776965265\n",
      " val loss: 0.8998612589024483, val acc: 0.6855496454746165\n",
      "\n",
      "Epoch 19\n",
      " train loss: 0.825458500568348, train acc: 0.713449170755076\n",
      " val loss: 0.8965732168644033, val acc: 0.6901595744680851\n",
      "\n",
      "Test accuracy with RandomRotation: 0.7053\n",
      "\n",
      "Training with RandomCrop augmentation:\n",
      "Epoch 0\n",
      " train loss: 1.6873823267014414, train acc: 0.3872869874485232\n",
      " val loss: 1.5115556625609703, val acc: 0.4617686170212766\n",
      "\n",
      "Epoch 1\n",
      " train loss: 1.4427594282073557, train acc: 0.479886230101751\n",
      " val loss: 1.3134016452951633, val acc: 0.5341533687520534\n",
      "\n",
      "Epoch 2\n",
      " train loss: 1.279712370588313, train acc: 0.5478951750115459\n",
      " val loss: 1.2343119349885494, val acc: 0.5527039006669471\n",
      "\n",
      "Epoch 3\n",
      " train loss: 1.210773662195781, train acc: 0.5727547989031079\n",
      " val loss: 1.250214342360801, val acc: 0.5571143617021277\n",
      "\n",
      "Epoch 4\n",
      " train loss: 1.1549313010637678, train acc: 0.5909873661219093\n",
      " val loss: 1.1201100899818095, val acc: 0.6078014184819891\n",
      "\n",
      "Epoch 5\n",
      " train loss: 1.1237126764257386, train acc: 0.603596728942076\n",
      " val loss: 1.1044582579998259, val acc: 0.6139184396317665\n",
      "\n",
      "Epoch 6\n",
      " train loss: 1.0931561473736597, train acc: 0.6148227344265368\n",
      " val loss: 1.0961724337111127, val acc: 0.6187278369639783\n",
      "\n",
      "Epoch 7\n",
      " train loss: 1.0717026197932102, train acc: 0.6243470879969693\n",
      " val loss: 1.091692633324481, val acc: 0.6156914893617021\n",
      "\n",
      "Epoch 8\n",
      " train loss: 1.0428588997293433, train acc: 0.6375644750743287\n",
      " val loss: 1.0398105530028647, val acc: 0.6350177305809995\n",
      "\n",
      "Epoch 9\n",
      " train loss: 1.0301548206610043, train acc: 0.6376093627112003\n",
      " val loss: 1.0175245787235017, val acc: 0.65\n",
      "\n",
      "Epoch 10\n",
      " train loss: 0.936314954509247, train acc: 0.6740336903052531\n",
      " val loss: 0.9469552729992157, val acc: 0.6718306736743197\n",
      "\n",
      "Epoch 11\n",
      " train loss: 0.9177432759806269, train acc: 0.6805546487489174\n",
      " val loss: 0.9366561374765762, val acc: 0.6757092199427016\n",
      "\n",
      "Epoch 12\n",
      " train loss: 0.9020081300840082, train acc: 0.6848965134655536\n",
      " val loss: 0.9354340520310909, val acc: 0.6751773050490846\n",
      "\n",
      "Epoch 13\n",
      " train loss: 0.8974834779716715, train acc: 0.6865614390024537\n",
      " val loss: 0.9332584142684937, val acc: 0.674623226865809\n",
      "\n",
      "Epoch 14\n",
      " train loss: 0.8961337150995649, train acc: 0.6845904609402965\n",
      " val loss: 0.9430982764731062, val acc: 0.6695257093044038\n",
      "\n",
      "Epoch 15\n",
      " train loss: 0.8824322320643465, train acc: 0.6905156372887997\n",
      " val loss: 0.9106997243901517, val acc: 0.6882535460147452\n",
      "\n",
      "Epoch 16\n",
      " train loss: 0.878402478080345, train acc: 0.6944494319354376\n",
      " val loss: 0.9163773993228345, val acc: 0.6839539007937655\n",
      "\n",
      "Epoch 17\n",
      " train loss: 0.8797622556224384, train acc: 0.6924213240743773\n",
      " val loss: 0.9192962078337974, val acc: 0.6818484042553191\n",
      "\n",
      "Epoch 18\n",
      " train loss: 0.8776949874007942, train acc: 0.6937312287647938\n",
      " val loss: 0.9200451886400264, val acc: 0.6805407800572983\n",
      "\n",
      "Epoch 19\n",
      " train loss: 0.8759393847838616, train acc: 0.6945759336952754\n",
      " val loss: 0.9178330160201864, val acc: 0.683466311972192\n",
      "\n",
      "Test accuracy with RandomCrop: 0.7101\n",
      "\n",
      "Training with ColorJitter augmentation:\n",
      "Epoch 0\n",
      " train loss: 1.5179934909182449, train acc: 0.4602172564326954\n",
      " val loss: 1.237915040330684, val acc: 0.5658687944107867\n",
      "\n",
      "Epoch 1\n",
      " train loss: 1.2103182383603543, train acc: 0.5750685557586838\n",
      " val loss: 1.1106543500372703, val acc: 0.6169547872340425\n",
      "\n",
      "Epoch 2\n",
      " train loss: 1.088640640161155, train acc: 0.6200623530792362\n",
      " val loss: 1.0744379134888344, val acc: 0.6205230497299357\n",
      "\n",
      "Epoch 3\n",
      " train loss: 1.0349607608218079, train acc: 0.6385356816556815\n",
      " val loss: 1.0465863618444888, val acc: 0.6288342199427016\n",
      "\n",
      "Epoch 4\n",
      " train loss: 0.9930385427457541, train acc: 0.6547238182760026\n",
      " val loss: 1.0960994461749463, val acc: 0.6260638297872341\n",
      "\n",
      "Epoch 5\n",
      " train loss: 0.9695706570170262, train acc: 0.6630362040164048\n",
      " val loss: 1.013405092219089, val acc: 0.6393395390916378\n",
      "\n",
      "Epoch 6\n",
      " train loss: 0.9422563759020957, train acc: 0.6722341016398051\n",
      " val loss: 1.0072914879372779, val acc: 0.6497340425531914\n",
      "\n",
      "Epoch 7\n",
      " train loss: 0.9296546631800845, train acc: 0.6782041656251799\n",
      " val loss: 0.9673328602567632, val acc: 0.6689273050490846\n",
      "\n",
      "Epoch 8\n",
      " train loss: 0.9006675627811299, train acc: 0.6858432358318098\n",
      " val loss: 0.9393171449925037, val acc: 0.6694813829787234\n",
      "\n",
      "Epoch 9\n",
      " train loss: 0.8862686204082133, train acc: 0.6945024810499857\n",
      " val loss: 0.9651046055428525, val acc: 0.669813829787234\n",
      "\n",
      "Epoch 10\n",
      " train loss: 0.7835519427137357, train acc: 0.7300208932302987\n",
      " val loss: 0.8668664506141176, val acc: 0.703812056653043\n",
      "\n",
      "Epoch 11\n",
      " train loss: 0.7626042208026489, train acc: 0.7372886197440585\n",
      " val loss: 0.8588164788611392, val acc: 0.7045434396317665\n",
      "\n",
      "Epoch 12\n",
      " train loss: 0.7562622225807616, train acc: 0.7401043027366973\n",
      " val loss: 0.8628931626360468, val acc: 0.7020833332487877\n",
      "\n",
      "Epoch 13\n",
      " train loss: 0.7534955798272023, train acc: 0.7403124184015683\n",
      " val loss: 0.8573718276429684, val acc: 0.7046985816448292\n",
      "\n",
      "Epoch 14\n",
      " train loss: 0.7492918377602558, train acc: 0.7418753265026936\n",
      " val loss: 0.8485279139052047, val acc: 0.7073803191489362\n",
      "\n",
      "Epoch 15\n",
      " train loss: 0.7339295068759151, train acc: 0.7464008226691042\n",
      " val loss: 0.8469574174982436, val acc: 0.7082668438870856\n",
      "\n",
      "Epoch 16\n",
      " train loss: 0.7312914305783713, train acc: 0.7487431444241316\n",
      " val loss: 0.8523152209342795, val acc: 0.7067375885679367\n",
      "\n",
      "Epoch 17\n",
      " train loss: 0.7321174656887159, train acc: 0.7488696460750028\n",
      " val loss: 0.8478380307238153, val acc: 0.7075797872340426\n",
      "\n",
      "Epoch 18\n",
      " train loss: 0.7302351480646151, train acc: 0.7480535061529393\n",
      " val loss: 0.8512343708505021, val acc: 0.7070257093044038\n",
      "\n",
      "Epoch 19\n",
      " train loss: 0.7300258406882312, train acc: 0.7514649712407393\n",
      " val loss: 0.8476426700328259, val acc: 0.7061391843126176\n",
      "\n",
      "Test accuracy with ColorJitter: 0.7127\n",
      "\n",
      "Training with combined augmentations:\n",
      "Epoch 0\n",
      " train loss: 1.7436223221871274, train acc: 0.36574905326205154\n",
      " val loss: 1.5601919387249237, val acc: 0.43175975173077685\n",
      "\n",
      "Epoch 1\n",
      " train loss: 1.536972617318469, train acc: 0.44001371115173676\n",
      " val loss: 1.4481505835309942, val acc: 0.48096187939035134\n",
      "\n",
      "Epoch 2\n",
      " train loss: 1.4249820918444087, train acc: 0.4891739031078611\n",
      " val loss: 1.4037400732649135, val acc: 0.5033909574468085\n",
      "\n",
      "Epoch 3\n",
      " train loss: 1.3438068293784176, train acc: 0.5227376599634369\n",
      " val loss: 1.3312355503122857, val acc: 0.5238031914893617\n",
      "\n",
      "Epoch 4\n",
      " train loss: 1.2914610530166346, train acc: 0.5428799947611375\n",
      " val loss: 1.2717931098126352, val acc: 0.5537677305809995\n",
      "\n",
      "Epoch 5\n",
      " train loss: 1.2667609135019278, train acc: 0.5483399712407393\n",
      " val loss: 1.2769226918829248, val acc: 0.5388741134329045\n",
      "\n",
      "Epoch 6\n",
      " train loss: 1.2360510588563993, train acc: 0.5619654282791305\n",
      " val loss: 1.1941164184123911, val acc: 0.5733820922831272\n",
      "\n",
      "Epoch 7\n",
      " train loss: 1.2137532887990556, train acc: 0.5707307717264025\n",
      " val loss: 1.2687427553724735, val acc: 0.5579343972053934\n",
      "\n",
      "Epoch 8\n",
      " train loss: 1.1862864151079433, train acc: 0.5805693392997686\n",
      " val loss: 1.1911284921017098, val acc: 0.5757535461415636\n",
      "\n",
      "Epoch 9\n",
      " train loss: 1.1714505602280445, train acc: 0.5890286302217835\n",
      " val loss: 1.1618279216137337, val acc: 0.5829122340425532\n",
      "\n",
      "Epoch 10\n",
      " train loss: 1.081765402823523, train acc: 0.6197603813473006\n",
      " val loss: 1.059251479392356, val acc: 0.632313829787234\n",
      "\n",
      "Epoch 11\n",
      " train loss: 1.0554771670693672, train acc: 0.6311945024966322\n",
      " val loss: 1.0534247005239445, val acc: 0.6317597518575953\n",
      "\n",
      "Epoch 12\n",
      " train loss: 1.0523260375263486, train acc: 0.6293581875630228\n",
      " val loss: 1.0385935065594125, val acc: 0.6385195034615537\n",
      "\n",
      "Epoch 13\n",
      " train loss: 1.0440612062675643, train acc: 0.6332022068269509\n",
      " val loss: 1.0382424740081138, val acc: 0.6375221630360218\n",
      "\n",
      "Epoch 14\n",
      " train loss: 1.0428004190734361, train acc: 0.6353894620316556\n",
      " val loss: 1.035422750483168, val acc: 0.6381205672913409\n",
      "\n",
      "Epoch 15\n",
      " train loss: 1.0300149610317166, train acc: 0.6394742426532278\n",
      " val loss: 1.0247442344401745, val acc: 0.6423758864402771\n",
      "\n",
      "Epoch 16\n",
      " train loss: 1.0284323708666745, train acc: 0.6387642008512939\n",
      " val loss: 1.026393085084063, val acc: 0.6404033688788718\n",
      "\n",
      "Epoch 17\n",
      " train loss: 1.0229369890101432, train acc: 0.6399720879969693\n",
      " val loss: 1.025602181921614, val acc: 0.6453679077168728\n",
      "\n",
      "Epoch 18\n",
      " train loss: 1.0220572593225203, train acc: 0.6419267433217064\n",
      " val loss: 1.0323850172631284, val acc: 0.6375664893617021\n",
      "\n",
      "Epoch 19\n",
      " train loss: 1.0204524368429098, train acc: 0.6427551254058015\n",
      " val loss: 1.0179398128326902, val acc: 0.644813829787234\n",
      "\n",
      "Test accuracy with combined augmentations: 0.6870\n",
      "\n"
     ]
    }
   ],
   "source": [
    "# RandomRotation\n",
    "transform_rotation = transforms.Compose(\n",
    "    [\n",
    "        transforms.RandomRotation(15),  # Поворот на угол ±15 градусов\n",
    "        transforms.ToTensor(),\n",
    "        transforms.Normalize((0.5, 0.5, 0.5), (0.5, 0.5, 0.5)),\n",
    "    ]\n",
    ")\n",
    "\n",
    "print(\"Training with RandomRotation augmentation:\")\n",
    "train_loader, val_loader, test_loader = get_cifar10_data(\n",
    "    batch_size=64, transform_train=transform_rotation\n",
    ")\n",
    "net = BasicBlockNet().to(device)\n",
    "optimizer = optim.SGD(net.parameters(), lr=0.1, momentum=0.9)\n",
    "scheduler = optim.lr_scheduler.MultiStepLR(optimizer, milestones=[10, 15], gamma=0.1)\n",
    "tr_loss_log, tr_acc_log, val_loss_log, val_acc_log = train(\n",
    "    net, optimizer, 20, train_loader, val_loader, scheduler\n",
    ")\n",
    "test_loss, test_acc = test(net, test_loader)\n",
    "print(f\"Test accuracy with RandomRotation: {test_acc:.4f}\\n\")\n",
    "\n",
    "\n",
    "# RandomCrop\n",
    "transform_crop = transforms.Compose(\n",
    "    [\n",
    "        transforms.RandomCrop(32, padding=4),  # Случайная обрезка 32x32 с отступом 4\n",
    "        transforms.ToTensor(),\n",
    "        transforms.Normalize((0.5, 0.5, 0.5), (0.5, 0.5, 0.5)),\n",
    "    ]\n",
    ")\n",
    "\n",
    "print(\"Training with RandomCrop augmentation:\")\n",
    "train_loader, val_loader, test_loader = get_cifar10_data(\n",
    "    batch_size=64, transform_train=transform_crop\n",
    ")\n",
    "net = BasicBlockNet().to(device)\n",
    "optimizer = optim.SGD(net.parameters(), lr=0.1, momentum=0.9)\n",
    "scheduler = optim.lr_scheduler.MultiStepLR(optimizer, milestones=[10, 15], gamma=0.1)\n",
    "tr_loss_log, tr_acc_log, val_loss_log, val_acc_log = train(\n",
    "    net, optimizer, 20, train_loader, val_loader, scheduler\n",
    ")\n",
    "test_loss, test_acc = test(net, test_loader)\n",
    "print(f\"Test accuracy with RandomCrop: {test_acc:.4f}\\n\")\n",
    "\n",
    "\n",
    "# ColorJitter\n",
    "transform_color = transforms.Compose(\n",
    "    [\n",
    "        transforms.ColorJitter(\n",
    "            brightness=0.2, contrast=0.2, saturation=0.2\n",
    "        ),  # Изменение цветовых характеристик\n",
    "        transforms.ToTensor(),\n",
    "        transforms.Normalize((0.5, 0.5, 0.5), (0.5, 0.5, 0.5)),\n",
    "    ]\n",
    ")\n",
    "\n",
    "print(\"Training with ColorJitter augmentation:\")\n",
    "train_loader, val_loader, test_loader = get_cifar10_data(\n",
    "    batch_size=64, transform_train=transform_color\n",
    ")\n",
    "net = BasicBlockNet().to(device)\n",
    "optimizer = optim.SGD(net.parameters(), lr=0.1, momentum=0.9)\n",
    "scheduler = optim.lr_scheduler.MultiStepLR(optimizer, milestones=[10, 15], gamma=0.1)\n",
    "tr_loss_log, tr_acc_log, val_loss_log, val_acc_log = train(\n",
    "    net, optimizer, 20, train_loader, val_loader, scheduler\n",
    ")\n",
    "test_loss, test_acc = test(net, test_loader)\n",
    "print(f\"Test accuracy with ColorJitter: {test_acc:.4f}\\n\")\n",
    "\n",
    "\n",
    "# Комбинация всех трех сразу\n",
    "transform_combined = transforms.Compose(\n",
    "    [\n",
    "        transforms.RandomHorizontalFlip(),\n",
    "        transforms.RandomRotation(15),\n",
    "        transforms.RandomCrop(32, padding=4),\n",
    "        transforms.ColorJitter(brightness=0.2, contrast=0.2, saturation=0.2),\n",
    "        transforms.ToTensor(),\n",
    "        transforms.Normalize((0.5, 0.5, 0.5), (0.5, 0.5, 0.5)),\n",
    "    ]\n",
    ")\n",
    "\n",
    "print(\"Training with combined augmentations:\")\n",
    "train_loader, val_loader, test_loader = get_cifar10_data(\n",
    "    batch_size=64, transform_train=transform_combined\n",
    ")\n",
    "net = BasicBlockNet().to(device)\n",
    "optimizer = optim.SGD(net.parameters(), lr=0.1, momentum=0.9)\n",
    "scheduler = optim.lr_scheduler.MultiStepLR(optimizer, milestones=[10, 15], gamma=0.1)\n",
    "tr_loss_log, tr_acc_log, val_loss_log, val_acc_log = train(\n",
    "    net, optimizer, 20, train_loader, val_loader, scheduler\n",
    ")\n",
    "test_loss, test_acc = test(net, test_loader)\n",
    "print(f\"Test accuracy with combined augmentations: {test_acc:.4f}\\n\")"
   ]
  },
  {
   "cell_type": "markdown",
   "metadata": {
    "id": "4K-MptLiO9Dv",
    "pycharm": {
     "name": "#%% md\n"
    }
   },
   "source": [
    "Your answers here:\n",
    "\n",
    "Объяснение аугментаций:\n",
    "1. RandomRotation(15):\n",
    "- Случайно поворачивает изображение на угол от -15 до +15 градусов\n",
    "- Помогает модели стать устойчивой к небольшим поворотам объектов\n",
    "- Особенно полезно для объектов, которые могут быть по-разному ориентированы\n",
    "2. RandomCrop(32, padding=4):\n",
    "- Добавляет отступ 4 пикселя со всех сторон\n",
    "- Затем случайно вырезает область 32x32\n",
    "- Помогает модели лучше учитывать различные части объектов\n",
    "- Делает модель более устойчивой к небольшим сдвигам\n",
    "3. ColorJitter:\n",
    "- Случайно изменяет яркость, контраст и насыщенность\n",
    "- Делает модель устойчивой к различным условиям освещения\n",
    "- Помогает справляться с разными цветовыми вариациями объектов\n",
    "4. Комбинация аугментаций:\n",
    "- Применяет все преобразования последовательно\n",
    "- Создает более разнообразный набор данных для обучения\n",
    "- Может привести к лучшей обобщающей способности модели\n",
    "\n",
    "Результаты применения аугментаций:\n",
    "\n",
    "| Аугментация     | Test Accuracy |\n",
    "|-----------------|---------------|\n",
    "| RandomRotation  | 70.53%        | \n",
    "| RandomCrop      | 71.01%        |\n",
    "| ColorJitter     | 71.27%        | \n",
    "| Комбинация всех | 68.70%        |\n",
    "\n",
    "Все одиночные аугментации улучшили результат по сравнению базовым (~68.7%). Самой эффективной оказалась ColorJitter (71.27%)\n",
    "Интересно, что комбинация показала наихудший результат. Возможно, стоило увеличить число эпох или ограничиться двумя аугментациями."
   ]
  },
  {
   "cell_type": "markdown",
   "metadata": {
    "id": "HCENjLw5O9Dv",
    "pycharm": {
     "name": "#%% md\n"
    }
   },
   "source": [
    "## Бонус. Логирование в wandb (1 балл)"
   ]
  },
  {
   "cell_type": "markdown",
   "metadata": {
    "id": "xOyzc1mnO9Dv",
    "pycharm": {
     "name": "#%% md\n"
    }
   },
   "source": [
    "На практике специалиста по глубинному обучению часто встречаются ситуации, когда нейросеть учится на каком-то удаленном сервере. И обычно вам хочется отслеживать прогресс обучения, особенно когда время обучения модели исчисляется днями или неделями. Для таких целей существует несколько инструментов. Вероятно, самый популярный из них — [wandb](https://wandb.ai/site).\n",
    "\n",
    "Ваша задача состоит в том, чтобы разобраться как им пользоваться, и повторить задания 2.1 и 2.2 с его использованием. Обучение вы можете запускать в этом же ноутбуке, но теперь вам необходимо через wandb логировать значения функции потерь и точности на обучающей выборке и на валидационной. Результатом работы должны быть ваш код и публичная ссылка на страничку с графиками, идентичными графикам в задании 2.2.\n",
    "\n",
    "Если вас смущает, что WandB грозится забанить вас, то можете разобраться с любым его аналогом и приложить ссылку на аналог."
   ]
  },
  {
   "cell_type": "code",
   "execution_count": 44,
   "metadata": {
    "id": "m5gSTLAr_QS4",
    "pycharm": {
     "name": "#%%\n"
    }
   },
   "outputs": [
    {
     "name": "stderr",
     "output_type": "stream",
     "text": [
      "\u001b[34m\u001b[1mwandb\u001b[0m: Using wandb-core as the SDK backend.  Please refer to https://wandb.me/wandb-core for more information.\n",
      "\u001b[34m\u001b[1mwandb\u001b[0m: Currently logged in as: \u001b[33mgkonoff\u001b[0m (\u001b[33mgkonoff-hse\u001b[0m) to \u001b[32mhttps://api.wandb.ai\u001b[0m. Use \u001b[1m`wandb login --relogin`\u001b[0m to force relogin\n"
     ]
    },
    {
     "data": {
      "text/plain": [
       "True"
      ]
     },
     "execution_count": 44,
     "metadata": {},
     "output_type": "execute_result"
    }
   ],
   "source": [
    "# <your code here>\n",
    "import wandb\n",
    "\n",
    "wandb.login()"
   ]
  },
  {
   "cell_type": "markdown",
   "metadata": {},
   "source": [
    "Модифицируем функцию обучения, чтобы она логировала в wandb.\n",
    "\n",
    "Ссылка на отчет в wandb:  \n",
    "https://api.wandb.ai/links/gkonoff-hse/7nfkzsun"
   ]
  },
  {
   "cell_type": "code",
   "execution_count": 46,
   "metadata": {},
   "outputs": [],
   "source": [
    "def train_epoch_with_wandb(model, optimizer, train_loader, wandb=wandb):\n",
    "    loss_log = []\n",
    "    acc_log = []\n",
    "    model.train()\n",
    "\n",
    "    for data, target in train_loader:\n",
    "        # Переносим данные на нужное устройство\n",
    "        data, target = data.to(device), target.to(device)\n",
    "\n",
    "        # Обнуляем градиенты\n",
    "        optimizer.zero_grad()\n",
    "\n",
    "        # Получаем предсказания модели\n",
    "        output = model(data)\n",
    "\n",
    "        # Считаем функцию потерь\n",
    "        loss = F.cross_entropy(output, target)\n",
    "\n",
    "        # Делаем шаг градиентного спуска\n",
    "        loss.backward()\n",
    "        optimizer.step()\n",
    "\n",
    "        loss_log.append(loss.item())\n",
    "\n",
    "        # Считаем accuracy\n",
    "        with torch.no_grad():\n",
    "            pred = output.argmax(dim=1)\n",
    "            acc = pred.eq(target).float().mean()\n",
    "            acc_log.append(acc.item())\n",
    "\n",
    "        # Логируем train метрики\n",
    "        wandb.log(\n",
    "            {\n",
    "                \"train/loss\": loss.item(),\n",
    "                \"train/accuracy\": acc.item(),\n",
    "                # \"train/step\": step\n",
    "            }\n",
    "        )\n",
    "\n",
    "    return loss_log, acc_log\n",
    "\n",
    "\n",
    "def train_with_wandb(\n",
    "    model, optimizer, n_epochs, train_loader, val_loader, scheduler=None, wandb=wandb\n",
    "):\n",
    "    train_loss_log, train_acc_log, val_loss_log, val_acc_log = [], [], [], []\n",
    "\n",
    "    for epoch in range(n_epochs):\n",
    "        train_loss, train_acc = train_epoch_with_wandb(\n",
    "            model, optimizer, train_loader, wandb\n",
    "        )\n",
    "        val_loss, val_acc = test(model, val_loader)\n",
    "\n",
    "        # Логируем validation метрики\n",
    "        wandb.log({\"val/loss\": val_loss, \"val/accuracy\": val_acc, \"epoch\": epoch})\n",
    "\n",
    "        train_loss_log.extend(train_loss)\n",
    "        train_acc_log.extend(train_acc)\n",
    "\n",
    "        val_loss_log.append(val_loss)\n",
    "        val_acc_log.append(val_acc)\n",
    "\n",
    "        print(f\"Epoch {epoch}\")\n",
    "        print(f\" train loss: {np.mean(train_loss)}, train acc: {np.mean(train_acc)}\")\n",
    "        print(f\" val loss: {val_loss}, val acc: {val_acc}\\n\")\n",
    "\n",
    "        if scheduler is not None:\n",
    "            # Проверяем тип scheduler'а\n",
    "            if isinstance(scheduler, optim.lr_scheduler.ReduceLROnPlateau):\n",
    "                scheduler.step(val_loss)  # Передаем значение метрики\n",
    "            else:\n",
    "                scheduler.step()\n",
    "\n",
    "    return train_loss_log, train_acc_log, val_loss_log, val_acc_log"
   ]
  },
  {
   "cell_type": "code",
   "execution_count": 47,
   "metadata": {},
   "outputs": [
    {
     "data": {
      "text/html": [],
      "text/plain": [
       "<IPython.core.display.HTML object>"
      ]
     },
     "metadata": {},
     "output_type": "display_data"
    },
    {
     "data": {
      "text/html": [
       "Tracking run with wandb version 0.19.9"
      ],
      "text/plain": [
       "<IPython.core.display.HTML object>"
      ]
     },
     "metadata": {},
     "output_type": "display_data"
    },
    {
     "data": {
      "text/html": [
       "Run data is saved locally in <code>/Users/yukonoff/code/hse_ai_24/hse-ai24-dl/homeworks/HW2/wandb/run-20250420_204403-3a57jeir</code>"
      ],
      "text/plain": [
       "<IPython.core.display.HTML object>"
      ]
     },
     "metadata": {},
     "output_type": "display_data"
    },
    {
     "data": {
      "text/html": [
       "Syncing run <strong><a href='https://wandb.ai/gkonoff-hse/hse-dl-hw2/runs/3a57jeir' target=\"_blank\">basic-cnn-cifar10</a></strong> to <a href='https://wandb.ai/gkonoff-hse/hse-dl-hw2' target=\"_blank\">Weights & Biases</a> (<a href='https://wandb.me/developer-guide' target=\"_blank\">docs</a>)<br>"
      ],
      "text/plain": [
       "<IPython.core.display.HTML object>"
      ]
     },
     "metadata": {},
     "output_type": "display_data"
    },
    {
     "data": {
      "text/html": [
       " View project at <a href='https://wandb.ai/gkonoff-hse/hse-dl-hw2' target=\"_blank\">https://wandb.ai/gkonoff-hse/hse-dl-hw2</a>"
      ],
      "text/plain": [
       "<IPython.core.display.HTML object>"
      ]
     },
     "metadata": {},
     "output_type": "display_data"
    },
    {
     "data": {
      "text/html": [
       " View run at <a href='https://wandb.ai/gkonoff-hse/hse-dl-hw2/runs/3a57jeir' target=\"_blank\">https://wandb.ai/gkonoff-hse/hse-dl-hw2/runs/3a57jeir</a>"
      ],
      "text/plain": [
       "<IPython.core.display.HTML object>"
      ]
     },
     "metadata": {},
     "output_type": "display_data"
    },
    {
     "name": "stdout",
     "output_type": "stream",
     "text": [
      "Epoch 0\n",
      " train loss: 1.7279334567364653, train acc: 0.3698215917760755\n",
      " val loss: 1.5285596801879557, val acc: 0.45077570917758536\n",
      "\n",
      "Epoch 1\n",
      " train loss: 1.5174540102590808, train acc: 0.45558158135283366\n",
      " val loss: 1.483896009972755, val acc: 0.4617242908224146\n",
      "\n",
      "Epoch 2\n",
      " train loss: 1.4098914572918002, train acc: 0.49607844735194384\n",
      " val loss: 1.348211869280389, val acc: 0.519747340425532\n",
      "\n",
      "Epoch 3\n",
      " train loss: 1.3384026626782182, train acc: 0.5250473361346578\n",
      " val loss: 1.2967387772620993, val acc: 0.5420434396317665\n",
      "\n",
      "Epoch 4\n",
      " train loss: 1.2814125712872424, train acc: 0.5459078741030022\n",
      " val loss: 1.2480614053442123, val acc: 0.5626108155605641\n",
      "\n",
      "Epoch 5\n",
      " train loss: 1.2470048997258356, train acc: 0.5573868829981719\n",
      " val loss: 1.222536235160016, val acc: 0.5651152481424048\n",
      "\n",
      "Epoch 6\n",
      " train loss: 1.2211321872374694, train acc: 0.5648994515539305\n",
      " val loss: 1.1875652168659454, val acc: 0.5833554965384463\n",
      "\n",
      "Epoch 7\n",
      " train loss: 1.2055252568159505, train acc: 0.5746931313814585\n",
      " val loss: 1.177743871414915, val acc: 0.5859707446808511\n",
      "\n",
      "Epoch 8\n",
      " train loss: 1.1982337348639855, train acc: 0.5755215134655536\n",
      " val loss: 1.2311683695367042, val acc: 0.5695257093044037\n",
      "\n",
      "Epoch 9\n",
      " train loss: 1.1694686395376648, train acc: 0.5874412379055616\n",
      " val loss: 1.1556246853889303, val acc: 0.5921320922831271\n",
      "\n",
      "Epoch 10\n",
      " train loss: 1.070080309506962, train acc: 0.6266608448525451\n",
      " val loss: 1.0566587382174553, val acc: 0.6298758864402771\n",
      "\n",
      "Epoch 11\n",
      " train loss: 1.052174055162252, train acc: 0.6325329720865002\n",
      " val loss: 1.0453948403926605, val acc: 0.6357934396317665\n",
      "\n",
      "Epoch 12\n",
      " train loss: 1.0416237130025623, train acc: 0.6338469574612717\n",
      " val loss: 1.0345183648961656, val acc: 0.636502659574468\n",
      "\n",
      "Epoch 13\n",
      " train loss: 1.036507458529917, train acc: 0.638209225599683\n",
      " val loss: 1.0401294561142618, val acc: 0.6368129433469569\n",
      "\n",
      "Epoch 14\n",
      " train loss: 1.0307647232817558, train acc: 0.639013123577648\n",
      " val loss: 1.0508651629407355, val acc: 0.6349734042553191\n",
      "\n",
      "Epoch 15\n",
      " train loss: 1.0199738072956719, train acc: 0.6427020762912534\n",
      " val loss: 1.0243159758283737, val acc: 0.6456117021276596\n",
      "\n",
      "Epoch 16\n",
      " train loss: 1.0145317979660942, train acc: 0.6465420148708266\n",
      " val loss: 1.0224537103734117, val acc: 0.6440602837724888\n",
      "\n",
      "Epoch 17\n",
      " train loss: 1.011649603599604, train acc: 0.6456605836721835\n",
      " val loss: 1.0268694563114897, val acc: 0.6432845744680851\n",
      "\n",
      "Epoch 18\n",
      " train loss: 1.0156253502181505, train acc: 0.6412248628884827\n",
      " val loss: 1.0127009561721314, val acc: 0.6483599289934686\n",
      "\n"
     ]
    },
    {
     "name": "stderr",
     "output_type": "stream",
     "text": [
      "\u001b[34m\u001b[1mwandb\u001b[0m: \u001b[32m\u001b[41mERROR\u001b[0m The nbformat package was not found. It is required to save notebook history.\n"
     ]
    },
    {
     "name": "stdout",
     "output_type": "stream",
     "text": [
      "Epoch 19\n",
      " train loss: 1.0157457284997107, train acc: 0.6450811243144424\n",
      " val loss: 1.0197495414855633, val acc: 0.6436613476022761\n",
      "\n"
     ]
    },
    {
     "data": {
      "text/html": [],
      "text/plain": [
       "<IPython.core.display.HTML object>"
      ]
     },
     "metadata": {},
     "output_type": "display_data"
    },
    {
     "data": {
      "text/html": [
       "<br>    <style><br>        .wandb-row {<br>            display: flex;<br>            flex-direction: row;<br>            flex-wrap: wrap;<br>            justify-content: flex-start;<br>            width: 100%;<br>        }<br>        .wandb-col {<br>            display: flex;<br>            flex-direction: column;<br>            flex-basis: 100%;<br>            flex: 1;<br>            padding: 10px;<br>        }<br>    </style><br><div class=\"wandb-row\"><div class=\"wandb-col\"><h3>Run history:</h3><br/><table class=\"wandb\"><tr><td>epoch</td><td>▁▁▂▂▂▃▃▄▄▄▅▅▅▆▆▇▇▇██</td></tr><tr><td>train/accuracy</td><td>▂▁▄▃▄▄▅▃▅▅▅▆▅▇▆▇▅▅▅█▇█▆▅█▇▅▇▅▅▆▅▅▆▇▆▅▇▇▇</td></tr><tr><td>train/loss</td><td>▅▆▇▆▇█▅▆▅▆▄▄▇▆▅▄▆▅▅▆▄▃▅▅▄▃▆▁▅▅▅▃▆▄▄▂▄▅▄▃</td></tr><tr><td>val/accuracy</td><td>▁▁▃▄▅▅▆▆▅▆▇█████████</td></tr><tr><td>val/loss</td><td>█▇▆▅▄▄▃▃▄▃▂▁▁▁▂▁▁▁▁▁</td></tr></table><br/></div><div class=\"wandb-col\"><h3>Run summary:</h3><br/><table class=\"wandb\"><tr><td>epoch</td><td>19</td></tr><tr><td>train/accuracy</td><td>0.625</td></tr><tr><td>train/loss</td><td>1.04053</td></tr><tr><td>val/accuracy</td><td>0.64366</td></tr><tr><td>val/loss</td><td>1.01975</td></tr></table><br/></div></div>"
      ],
      "text/plain": [
       "<IPython.core.display.HTML object>"
      ]
     },
     "metadata": {},
     "output_type": "display_data"
    },
    {
     "data": {
      "text/html": [
       " View run <strong style=\"color:#cdcd00\">basic-cnn-cifar10</strong> at: <a href='https://wandb.ai/gkonoff-hse/hse-dl-hw2/runs/3a57jeir' target=\"_blank\">https://wandb.ai/gkonoff-hse/hse-dl-hw2/runs/3a57jeir</a><br> View project at: <a href='https://wandb.ai/gkonoff-hse/hse-dl-hw2' target=\"_blank\">https://wandb.ai/gkonoff-hse/hse-dl-hw2</a><br>Synced 5 W&B file(s), 0 media file(s), 0 artifact file(s) and 0 other file(s)"
      ],
      "text/plain": [
       "<IPython.core.display.HTML object>"
      ]
     },
     "metadata": {},
     "output_type": "display_data"
    },
    {
     "data": {
      "text/html": [
       "Find logs at: <code>./wandb/run-20250420_204403-3a57jeir/logs</code>"
      ],
      "text/plain": [
       "<IPython.core.display.HTML object>"
      ]
     },
     "metadata": {},
     "output_type": "display_data"
    }
   ],
   "source": [
    "# Инициализация wandb\n",
    "wandb.init(\n",
    "    project=\"hse-dl-hw2\",  # Название проекта\n",
    "    name=\"basic-cnn-cifar10\",  # Название эксперимента\n",
    "    config={  # Конфигурация эксперимента\n",
    "        \"architecture\": \"BasicBlockNet\",\n",
    "        \"dataset\": \"CIFAR10\",\n",
    "        \"epochs\": 20,\n",
    "        \"batch_size\": 64,\n",
    "        \"learning_rate\": 0.1,\n",
    "        \"momentum\": 0.9,\n",
    "        \"optimizer\": \"SGD\",\n",
    "    },\n",
    ")\n",
    "\n",
    "# Обучаем модель с логированием\n",
    "net = BasicBlockNet().to(device)\n",
    "optimizer = optim.SGD(net.parameters(), lr=0.1, momentum=0.9)\n",
    "scheduler = optim.lr_scheduler.MultiStepLR(optimizer, milestones=[10, 15], gamma=0.1)\n",
    "\n",
    "train_loss_log, train_acc_log, val_loss_log, val_acc_log = train_with_wandb(\n",
    "    net, optimizer, 20, train_loader, val_loader, scheduler, wandb\n",
    ")\n",
    "\n",
    "# Завершаем эксперимент\n",
    "wandb.finish()"
   ]
  }
 ],
 "metadata": {
  "accelerator": "GPU",
  "colab": {
   "collapsed_sections": [],
   "provenance": []
  },
  "kernelspec": {
   "display_name": ".venv",
   "language": "python",
   "name": "python3"
  },
  "language_info": {
   "codemirror_mode": {
    "name": "ipython",
    "version": 3
   },
   "file_extension": ".py",
   "mimetype": "text/x-python",
   "name": "python",
   "nbconvert_exporter": "python",
   "pygments_lexer": "ipython3",
   "version": "3.12.9"
  },
  "widgets": {
   "application/vnd.jupyter.widget-state+json": {
    "0fee9f5b7bdb4129a71ef0cfe9d3b1fa": {
     "model_module": "@jupyter-widgets/controls",
     "model_module_version": "1.5.0",
     "model_name": "ProgressStyleModel",
     "state": {
      "_model_module": "@jupyter-widgets/controls",
      "_model_module_version": "1.5.0",
      "_model_name": "ProgressStyleModel",
      "_view_count": null,
      "_view_module": "@jupyter-widgets/base",
      "_view_module_version": "1.2.0",
      "_view_name": "StyleView",
      "bar_color": null,
      "description_width": ""
     }
    },
    "17b2be81159e41f1a5c6bb966516572e": {
     "model_module": "@jupyter-widgets/base",
     "model_module_version": "1.2.0",
     "model_name": "LayoutModel",
     "state": {
      "_model_module": "@jupyter-widgets/base",
      "_model_module_version": "1.2.0",
      "_model_name": "LayoutModel",
      "_view_count": null,
      "_view_module": "@jupyter-widgets/base",
      "_view_module_version": "1.2.0",
      "_view_name": "LayoutView",
      "align_content": null,
      "align_items": null,
      "align_self": null,
      "border": null,
      "bottom": null,
      "display": null,
      "flex": null,
      "flex_flow": null,
      "grid_area": null,
      "grid_auto_columns": null,
      "grid_auto_flow": null,
      "grid_auto_rows": null,
      "grid_column": null,
      "grid_gap": null,
      "grid_row": null,
      "grid_template_areas": null,
      "grid_template_columns": null,
      "grid_template_rows": null,
      "height": null,
      "justify_content": null,
      "justify_items": null,
      "left": null,
      "margin": null,
      "max_height": null,
      "max_width": null,
      "min_height": null,
      "min_width": null,
      "object_fit": null,
      "object_position": null,
      "order": null,
      "overflow": null,
      "overflow_x": null,
      "overflow_y": null,
      "padding": null,
      "right": null,
      "top": null,
      "visibility": null,
      "width": null
     }
    },
    "18b20091dbf64b129824a8fb3266e3c0": {
     "model_module": "@jupyter-widgets/controls",
     "model_module_version": "1.5.0",
     "model_name": "DescriptionStyleModel",
     "state": {
      "_model_module": "@jupyter-widgets/controls",
      "_model_module_version": "1.5.0",
      "_model_name": "DescriptionStyleModel",
      "_view_count": null,
      "_view_module": "@jupyter-widgets/base",
      "_view_module_version": "1.2.0",
      "_view_name": "StyleView",
      "description_width": ""
     }
    },
    "22bb21a6c57a413fb7374efe31349e6e": {
     "model_module": "@jupyter-widgets/base",
     "model_module_version": "1.2.0",
     "model_name": "LayoutModel",
     "state": {
      "_model_module": "@jupyter-widgets/base",
      "_model_module_version": "1.2.0",
      "_model_name": "LayoutModel",
      "_view_count": null,
      "_view_module": "@jupyter-widgets/base",
      "_view_module_version": "1.2.0",
      "_view_name": "LayoutView",
      "align_content": null,
      "align_items": null,
      "align_self": null,
      "border": null,
      "bottom": null,
      "display": null,
      "flex": null,
      "flex_flow": null,
      "grid_area": null,
      "grid_auto_columns": null,
      "grid_auto_flow": null,
      "grid_auto_rows": null,
      "grid_column": null,
      "grid_gap": null,
      "grid_row": null,
      "grid_template_areas": null,
      "grid_template_columns": null,
      "grid_template_rows": null,
      "height": null,
      "justify_content": null,
      "justify_items": null,
      "left": null,
      "margin": null,
      "max_height": null,
      "max_width": null,
      "min_height": null,
      "min_width": null,
      "object_fit": null,
      "object_position": null,
      "order": null,
      "overflow": null,
      "overflow_x": null,
      "overflow_y": null,
      "padding": null,
      "right": null,
      "top": null,
      "visibility": null,
      "width": null
     }
    },
    "7d238166caf64537ad9aa2040dcdc1ec": {
     "model_module": "@jupyter-widgets/controls",
     "model_module_version": "1.5.0",
     "model_name": "DescriptionStyleModel",
     "state": {
      "_model_module": "@jupyter-widgets/controls",
      "_model_module_version": "1.5.0",
      "_model_name": "DescriptionStyleModel",
      "_view_count": null,
      "_view_module": "@jupyter-widgets/base",
      "_view_module_version": "1.2.0",
      "_view_name": "StyleView",
      "description_width": ""
     }
    },
    "95c5696493db48738dbdc9940acec1d8": {
     "model_module": "@jupyter-widgets/controls",
     "model_module_version": "1.5.0",
     "model_name": "HTMLModel",
     "state": {
      "_dom_classes": [],
      "_model_module": "@jupyter-widgets/controls",
      "_model_module_version": "1.5.0",
      "_model_name": "HTMLModel",
      "_view_count": null,
      "_view_module": "@jupyter-widgets/controls",
      "_view_module_version": "1.5.0",
      "_view_name": "HTMLView",
      "description": "",
      "description_tooltip": null,
      "layout": "IPY_MODEL_22bb21a6c57a413fb7374efe31349e6e",
      "placeholder": "​",
      "style": "IPY_MODEL_18b20091dbf64b129824a8fb3266e3c0",
      "value": "100%"
     }
    },
    "9bad0d6a00c14229b0d776a2cfe15090": {
     "model_module": "@jupyter-widgets/base",
     "model_module_version": "1.2.0",
     "model_name": "LayoutModel",
     "state": {
      "_model_module": "@jupyter-widgets/base",
      "_model_module_version": "1.2.0",
      "_model_name": "LayoutModel",
      "_view_count": null,
      "_view_module": "@jupyter-widgets/base",
      "_view_module_version": "1.2.0",
      "_view_name": "LayoutView",
      "align_content": null,
      "align_items": null,
      "align_self": null,
      "border": null,
      "bottom": null,
      "display": null,
      "flex": null,
      "flex_flow": null,
      "grid_area": null,
      "grid_auto_columns": null,
      "grid_auto_flow": null,
      "grid_auto_rows": null,
      "grid_column": null,
      "grid_gap": null,
      "grid_row": null,
      "grid_template_areas": null,
      "grid_template_columns": null,
      "grid_template_rows": null,
      "height": null,
      "justify_content": null,
      "justify_items": null,
      "left": null,
      "margin": null,
      "max_height": null,
      "max_width": null,
      "min_height": null,
      "min_width": null,
      "object_fit": null,
      "object_position": null,
      "order": null,
      "overflow": null,
      "overflow_x": null,
      "overflow_y": null,
      "padding": null,
      "right": null,
      "top": null,
      "visibility": null,
      "width": null
     }
    },
    "aa9da821ba0c42b5b051355e50e691f0": {
     "model_module": "@jupyter-widgets/controls",
     "model_module_version": "1.5.0",
     "model_name": "HBoxModel",
     "state": {
      "_dom_classes": [],
      "_model_module": "@jupyter-widgets/controls",
      "_model_module_version": "1.5.0",
      "_model_name": "HBoxModel",
      "_view_count": null,
      "_view_module": "@jupyter-widgets/controls",
      "_view_module_version": "1.5.0",
      "_view_name": "HBoxView",
      "box_style": "",
      "children": [
       "IPY_MODEL_95c5696493db48738dbdc9940acec1d8",
       "IPY_MODEL_fe515a1f743f49d0b251b43919d52a8e",
       "IPY_MODEL_f4f339c969fd4e21bc683ecb2567897b"
      ],
      "layout": "IPY_MODEL_17b2be81159e41f1a5c6bb966516572e"
     }
    },
    "cd991379661b4b4ab405bf66f75c6834": {
     "model_module": "@jupyter-widgets/base",
     "model_module_version": "1.2.0",
     "model_name": "LayoutModel",
     "state": {
      "_model_module": "@jupyter-widgets/base",
      "_model_module_version": "1.2.0",
      "_model_name": "LayoutModel",
      "_view_count": null,
      "_view_module": "@jupyter-widgets/base",
      "_view_module_version": "1.2.0",
      "_view_name": "LayoutView",
      "align_content": null,
      "align_items": null,
      "align_self": null,
      "border": null,
      "bottom": null,
      "display": null,
      "flex": null,
      "flex_flow": null,
      "grid_area": null,
      "grid_auto_columns": null,
      "grid_auto_flow": null,
      "grid_auto_rows": null,
      "grid_column": null,
      "grid_gap": null,
      "grid_row": null,
      "grid_template_areas": null,
      "grid_template_columns": null,
      "grid_template_rows": null,
      "height": null,
      "justify_content": null,
      "justify_items": null,
      "left": null,
      "margin": null,
      "max_height": null,
      "max_width": null,
      "min_height": null,
      "min_width": null,
      "object_fit": null,
      "object_position": null,
      "order": null,
      "overflow": null,
      "overflow_x": null,
      "overflow_y": null,
      "padding": null,
      "right": null,
      "top": null,
      "visibility": null,
      "width": null
     }
    },
    "f4f339c969fd4e21bc683ecb2567897b": {
     "model_module": "@jupyter-widgets/controls",
     "model_module_version": "1.5.0",
     "model_name": "HTMLModel",
     "state": {
      "_dom_classes": [],
      "_model_module": "@jupyter-widgets/controls",
      "_model_module_version": "1.5.0",
      "_model_name": "HTMLModel",
      "_view_count": null,
      "_view_module": "@jupyter-widgets/controls",
      "_view_module_version": "1.5.0",
      "_view_name": "HTMLView",
      "description": "",
      "description_tooltip": null,
      "layout": "IPY_MODEL_cd991379661b4b4ab405bf66f75c6834",
      "placeholder": "​",
      "style": "IPY_MODEL_7d238166caf64537ad9aa2040dcdc1ec",
      "value": " 170498071/170498071 [00:13&lt;00:00, 13339884.37it/s]"
     }
    },
    "fe515a1f743f49d0b251b43919d52a8e": {
     "model_module": "@jupyter-widgets/controls",
     "model_module_version": "1.5.0",
     "model_name": "FloatProgressModel",
     "state": {
      "_dom_classes": [],
      "_model_module": "@jupyter-widgets/controls",
      "_model_module_version": "1.5.0",
      "_model_name": "FloatProgressModel",
      "_view_count": null,
      "_view_module": "@jupyter-widgets/controls",
      "_view_module_version": "1.5.0",
      "_view_name": "ProgressView",
      "bar_style": "success",
      "description": "",
      "description_tooltip": null,
      "layout": "IPY_MODEL_9bad0d6a00c14229b0d776a2cfe15090",
      "max": 170498071,
      "min": 0,
      "orientation": "horizontal",
      "style": "IPY_MODEL_0fee9f5b7bdb4129a71ef0cfe9d3b1fa",
      "value": 170498071
     }
    }
   }
  }
 },
 "nbformat": 4,
 "nbformat_minor": 1
}
